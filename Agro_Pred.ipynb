{
 "cells": [
  {
   "cell_type": "code",
   "execution_count": 214,
   "id": "1e74bad6",
   "metadata": {},
   "outputs": [],
   "source": [
    "import numpy as np\n",
    "import pandas as pd\n",
    "import matplotlib.pyplot as plt\n"
   ]
  },
  {
   "cell_type": "code",
   "execution_count": 215,
   "id": "45fe9332",
   "metadata": {},
   "outputs": [],
   "source": [
    "df = pd.read_csv(\"Mandi_Prices.csv\")"
   ]
  },
  {
   "cell_type": "code",
   "execution_count": 216,
   "id": "0dac2c31",
   "metadata": {},
   "outputs": [
    {
     "data": {
      "text/html": [
       "<div>\n",
       "<style scoped>\n",
       "    .dataframe tbody tr th:only-of-type {\n",
       "        vertical-align: middle;\n",
       "    }\n",
       "\n",
       "    .dataframe tbody tr th {\n",
       "        vertical-align: top;\n",
       "    }\n",
       "\n",
       "    .dataframe thead th {\n",
       "        text-align: right;\n",
       "    }\n",
       "</style>\n",
       "<table border=\"1\" class=\"dataframe\">\n",
       "  <thead>\n",
       "    <tr style=\"text-align: right;\">\n",
       "      <th></th>\n",
       "      <th>Min,Max,Modal Price from Uttar Pradesh,Agra[Potato] from 01-Jan-2020To31-Dec-2020 (Total-1827) (Total-1827)</th>\n",
       "      <th>Unnamed: 1</th>\n",
       "      <th>Unnamed: 2</th>\n",
       "      <th>Unnamed: 3</th>\n",
       "      <th>Unnamed: 4</th>\n",
       "      <th>Unnamed: 5</th>\n",
       "      <th>Unnamed: 6</th>\n",
       "      <th>Unnamed: 7</th>\n",
       "      <th>Unnamed: 8</th>\n",
       "      <th>Unnamed: 9</th>\n",
       "    </tr>\n",
       "  </thead>\n",
       "  <tbody>\n",
       "    <tr>\n",
       "      <th>0</th>\n",
       "      <td>Sl no.</td>\n",
       "      <td>District Name</td>\n",
       "      <td>Market Name</td>\n",
       "      <td>Commodity</td>\n",
       "      <td>Variety</td>\n",
       "      <td>Grade</td>\n",
       "      <td>Min Price (Rs./Quintal)</td>\n",
       "      <td>Max Price (Rs./Quintal)</td>\n",
       "      <td>Modal Price (Rs./Quintal)</td>\n",
       "      <td>Price Date</td>\n",
       "    </tr>\n",
       "    <tr>\n",
       "      <th>1</th>\n",
       "      <td>306</td>\n",
       "      <td>Agra</td>\n",
       "      <td>Achnera</td>\n",
       "      <td>Potato</td>\n",
       "      <td>Desi</td>\n",
       "      <td>FAQ</td>\n",
       "      <td>1300</td>\n",
       "      <td>1400</td>\n",
       "      <td>1350</td>\n",
       "      <td>01-Jan-20</td>\n",
       "    </tr>\n",
       "    <tr>\n",
       "      <th>2</th>\n",
       "      <td>1139</td>\n",
       "      <td>Agra</td>\n",
       "      <td>Fatehpur Sikri</td>\n",
       "      <td>Potato</td>\n",
       "      <td>Local</td>\n",
       "      <td>FAQ</td>\n",
       "      <td>1400</td>\n",
       "      <td>1520</td>\n",
       "      <td>1455</td>\n",
       "      <td>01-Jan-20</td>\n",
       "    </tr>\n",
       "    <tr>\n",
       "      <th>3</th>\n",
       "      <td>1326</td>\n",
       "      <td>Agra</td>\n",
       "      <td>Jagnair</td>\n",
       "      <td>Potato</td>\n",
       "      <td>Desi</td>\n",
       "      <td>FAQ</td>\n",
       "      <td>1250</td>\n",
       "      <td>1350</td>\n",
       "      <td>1300</td>\n",
       "      <td>01-Jan-20</td>\n",
       "    </tr>\n",
       "    <tr>\n",
       "      <th>4</th>\n",
       "      <td>1472</td>\n",
       "      <td>Agra</td>\n",
       "      <td>Jarar</td>\n",
       "      <td>Potato</td>\n",
       "      <td>Desi</td>\n",
       "      <td>FAQ</td>\n",
       "      <td>1200</td>\n",
       "      <td>1300</td>\n",
       "      <td>1250</td>\n",
       "      <td>01-Jan-20</td>\n",
       "    </tr>\n",
       "  </tbody>\n",
       "</table>\n",
       "</div>"
      ],
      "text/plain": [
       "  Min,Max,Modal Price from Uttar Pradesh,Agra[Potato] from 01-Jan-2020To31-Dec-2020 (Total-1827) (Total-1827)  \\\n",
       "0                                             Sl no.                                                            \n",
       "1                                                306                                                            \n",
       "2                                               1139                                                            \n",
       "3                                               1326                                                            \n",
       "4                                               1472                                                            \n",
       "\n",
       "      Unnamed: 1      Unnamed: 2 Unnamed: 3 Unnamed: 4 Unnamed: 5  \\\n",
       "0  District Name     Market Name  Commodity    Variety      Grade   \n",
       "1           Agra         Achnera     Potato       Desi        FAQ   \n",
       "2           Agra  Fatehpur Sikri     Potato      Local        FAQ   \n",
       "3           Agra         Jagnair     Potato       Desi        FAQ   \n",
       "4           Agra           Jarar     Potato       Desi        FAQ   \n",
       "\n",
       "                Unnamed: 6               Unnamed: 7  \\\n",
       "0  Min Price (Rs./Quintal)  Max Price (Rs./Quintal)   \n",
       "1                     1300                     1400   \n",
       "2                     1400                     1520   \n",
       "3                     1250                     1350   \n",
       "4                     1200                     1300   \n",
       "\n",
       "                  Unnamed: 8  Unnamed: 9  \n",
       "0  Modal Price (Rs./Quintal)  Price Date  \n",
       "1                       1350   01-Jan-20  \n",
       "2                       1455   01-Jan-20  \n",
       "3                       1300   01-Jan-20  \n",
       "4                       1250   01-Jan-20  "
      ]
     },
     "execution_count": 216,
     "metadata": {},
     "output_type": "execute_result"
    }
   ],
   "source": [
    "df.head()\n"
   ]
  },
  {
   "cell_type": "code",
   "execution_count": 217,
   "id": "8cf2d4b8",
   "metadata": {},
   "outputs": [],
   "source": [
    "df.columns = ['Sl no','District_Name','Market_Name','Commodity','Variety','Grade','Min_Price','Max_Price','Modal_Price','Price_Date']\n"
   ]
  },
  {
   "cell_type": "code",
   "execution_count": 218,
   "id": "e63d4192",
   "metadata": {},
   "outputs": [
    {
     "data": {
      "text/html": [
       "<div>\n",
       "<style scoped>\n",
       "    .dataframe tbody tr th:only-of-type {\n",
       "        vertical-align: middle;\n",
       "    }\n",
       "\n",
       "    .dataframe tbody tr th {\n",
       "        vertical-align: top;\n",
       "    }\n",
       "\n",
       "    .dataframe thead th {\n",
       "        text-align: right;\n",
       "    }\n",
       "</style>\n",
       "<table border=\"1\" class=\"dataframe\">\n",
       "  <thead>\n",
       "    <tr style=\"text-align: right;\">\n",
       "      <th></th>\n",
       "      <th>Sl no</th>\n",
       "      <th>District_Name</th>\n",
       "      <th>Market_Name</th>\n",
       "      <th>Commodity</th>\n",
       "      <th>Variety</th>\n",
       "      <th>Grade</th>\n",
       "      <th>Min_Price</th>\n",
       "      <th>Max_Price</th>\n",
       "      <th>Modal_Price</th>\n",
       "      <th>Price_Date</th>\n",
       "    </tr>\n",
       "  </thead>\n",
       "  <tbody>\n",
       "    <tr>\n",
       "      <th>0</th>\n",
       "      <td>Sl no.</td>\n",
       "      <td>District Name</td>\n",
       "      <td>Market Name</td>\n",
       "      <td>Commodity</td>\n",
       "      <td>Variety</td>\n",
       "      <td>Grade</td>\n",
       "      <td>Min Price (Rs./Quintal)</td>\n",
       "      <td>Max Price (Rs./Quintal)</td>\n",
       "      <td>Modal Price (Rs./Quintal)</td>\n",
       "      <td>Price Date</td>\n",
       "    </tr>\n",
       "    <tr>\n",
       "      <th>1</th>\n",
       "      <td>306</td>\n",
       "      <td>Agra</td>\n",
       "      <td>Achnera</td>\n",
       "      <td>Potato</td>\n",
       "      <td>Desi</td>\n",
       "      <td>FAQ</td>\n",
       "      <td>1300</td>\n",
       "      <td>1400</td>\n",
       "      <td>1350</td>\n",
       "      <td>01-Jan-20</td>\n",
       "    </tr>\n",
       "    <tr>\n",
       "      <th>2</th>\n",
       "      <td>1139</td>\n",
       "      <td>Agra</td>\n",
       "      <td>Fatehpur Sikri</td>\n",
       "      <td>Potato</td>\n",
       "      <td>Local</td>\n",
       "      <td>FAQ</td>\n",
       "      <td>1400</td>\n",
       "      <td>1520</td>\n",
       "      <td>1455</td>\n",
       "      <td>01-Jan-20</td>\n",
       "    </tr>\n",
       "    <tr>\n",
       "      <th>3</th>\n",
       "      <td>1326</td>\n",
       "      <td>Agra</td>\n",
       "      <td>Jagnair</td>\n",
       "      <td>Potato</td>\n",
       "      <td>Desi</td>\n",
       "      <td>FAQ</td>\n",
       "      <td>1250</td>\n",
       "      <td>1350</td>\n",
       "      <td>1300</td>\n",
       "      <td>01-Jan-20</td>\n",
       "    </tr>\n",
       "    <tr>\n",
       "      <th>4</th>\n",
       "      <td>1472</td>\n",
       "      <td>Agra</td>\n",
       "      <td>Jarar</td>\n",
       "      <td>Potato</td>\n",
       "      <td>Desi</td>\n",
       "      <td>FAQ</td>\n",
       "      <td>1200</td>\n",
       "      <td>1300</td>\n",
       "      <td>1250</td>\n",
       "      <td>01-Jan-20</td>\n",
       "    </tr>\n",
       "  </tbody>\n",
       "</table>\n",
       "</div>"
      ],
      "text/plain": [
       "    Sl no  District_Name     Market_Name  Commodity  Variety  Grade  \\\n",
       "0  Sl no.  District Name     Market Name  Commodity  Variety  Grade   \n",
       "1     306           Agra         Achnera     Potato     Desi    FAQ   \n",
       "2    1139           Agra  Fatehpur Sikri     Potato    Local    FAQ   \n",
       "3    1326           Agra         Jagnair     Potato     Desi    FAQ   \n",
       "4    1472           Agra           Jarar     Potato     Desi    FAQ   \n",
       "\n",
       "                 Min_Price                Max_Price  \\\n",
       "0  Min Price (Rs./Quintal)  Max Price (Rs./Quintal)   \n",
       "1                     1300                     1400   \n",
       "2                     1400                     1520   \n",
       "3                     1250                     1350   \n",
       "4                     1200                     1300   \n",
       "\n",
       "                 Modal_Price  Price_Date  \n",
       "0  Modal Price (Rs./Quintal)  Price Date  \n",
       "1                       1350   01-Jan-20  \n",
       "2                       1455   01-Jan-20  \n",
       "3                       1300   01-Jan-20  \n",
       "4                       1250   01-Jan-20  "
      ]
     },
     "execution_count": 218,
     "metadata": {},
     "output_type": "execute_result"
    }
   ],
   "source": [
    "df.head()"
   ]
  },
  {
   "cell_type": "code",
   "execution_count": 219,
   "id": "1da45c12",
   "metadata": {},
   "outputs": [],
   "source": [
    "new_df = df.drop(['Grade','Sl no','District_Name','Commodity'], axis=1)"
   ]
  },
  {
   "cell_type": "code",
   "execution_count": 220,
   "id": "5d12c0b7",
   "metadata": {},
   "outputs": [],
   "source": [
    "new_df = new_df.iloc[1: , :]"
   ]
  },
  {
   "cell_type": "code",
   "execution_count": 221,
   "id": "3dec7c2e",
   "metadata": {},
   "outputs": [
    {
     "data": {
      "text/html": [
       "<div>\n",
       "<style scoped>\n",
       "    .dataframe tbody tr th:only-of-type {\n",
       "        vertical-align: middle;\n",
       "    }\n",
       "\n",
       "    .dataframe tbody tr th {\n",
       "        vertical-align: top;\n",
       "    }\n",
       "\n",
       "    .dataframe thead th {\n",
       "        text-align: right;\n",
       "    }\n",
       "</style>\n",
       "<table border=\"1\" class=\"dataframe\">\n",
       "  <thead>\n",
       "    <tr style=\"text-align: right;\">\n",
       "      <th></th>\n",
       "      <th>index</th>\n",
       "      <th>Market_Name</th>\n",
       "      <th>Variety</th>\n",
       "      <th>Min_Price</th>\n",
       "      <th>Max_Price</th>\n",
       "      <th>Modal_Price</th>\n",
       "      <th>Price_Date</th>\n",
       "    </tr>\n",
       "  </thead>\n",
       "  <tbody>\n",
       "    <tr>\n",
       "      <th>0</th>\n",
       "      <td>1</td>\n",
       "      <td>Achnera</td>\n",
       "      <td>Desi</td>\n",
       "      <td>1300</td>\n",
       "      <td>1400</td>\n",
       "      <td>1350</td>\n",
       "      <td>01-Jan-20</td>\n",
       "    </tr>\n",
       "    <tr>\n",
       "      <th>1</th>\n",
       "      <td>2</td>\n",
       "      <td>Fatehpur Sikri</td>\n",
       "      <td>Local</td>\n",
       "      <td>1400</td>\n",
       "      <td>1520</td>\n",
       "      <td>1455</td>\n",
       "      <td>01-Jan-20</td>\n",
       "    </tr>\n",
       "    <tr>\n",
       "      <th>2</th>\n",
       "      <td>3</td>\n",
       "      <td>Jagnair</td>\n",
       "      <td>Desi</td>\n",
       "      <td>1250</td>\n",
       "      <td>1350</td>\n",
       "      <td>1300</td>\n",
       "      <td>01-Jan-20</td>\n",
       "    </tr>\n",
       "    <tr>\n",
       "      <th>3</th>\n",
       "      <td>4</td>\n",
       "      <td>Jarar</td>\n",
       "      <td>Desi</td>\n",
       "      <td>1200</td>\n",
       "      <td>1300</td>\n",
       "      <td>1250</td>\n",
       "      <td>01-Jan-20</td>\n",
       "    </tr>\n",
       "    <tr>\n",
       "      <th>4</th>\n",
       "      <td>5</td>\n",
       "      <td>Khairagarh</td>\n",
       "      <td>Desi</td>\n",
       "      <td>1200</td>\n",
       "      <td>1300</td>\n",
       "      <td>1250</td>\n",
       "      <td>01-Jan-20</td>\n",
       "    </tr>\n",
       "    <tr>\n",
       "      <th>...</th>\n",
       "      <td>...</td>\n",
       "      <td>...</td>\n",
       "      <td>...</td>\n",
       "      <td>...</td>\n",
       "      <td>...</td>\n",
       "      <td>...</td>\n",
       "      <td>...</td>\n",
       "    </tr>\n",
       "    <tr>\n",
       "      <th>1822</th>\n",
       "      <td>1823</td>\n",
       "      <td>Agra</td>\n",
       "      <td>Desi</td>\n",
       "      <td>800</td>\n",
       "      <td>1100</td>\n",
       "      <td>960</td>\n",
       "      <td>31-Dec-20</td>\n",
       "    </tr>\n",
       "    <tr>\n",
       "      <th>1823</th>\n",
       "      <td>1824</td>\n",
       "      <td>Fatehabad</td>\n",
       "      <td>Desi</td>\n",
       "      <td>700</td>\n",
       "      <td>800</td>\n",
       "      <td>750</td>\n",
       "      <td>31-Dec-20</td>\n",
       "    </tr>\n",
       "    <tr>\n",
       "      <th>1824</th>\n",
       "      <td>1825</td>\n",
       "      <td>Fatehpur Sikri</td>\n",
       "      <td>Local</td>\n",
       "      <td>900</td>\n",
       "      <td>1100</td>\n",
       "      <td>1015</td>\n",
       "      <td>31-Dec-20</td>\n",
       "    </tr>\n",
       "    <tr>\n",
       "      <th>1825</th>\n",
       "      <td>1826</td>\n",
       "      <td>Jagnair</td>\n",
       "      <td>Desi</td>\n",
       "      <td>750</td>\n",
       "      <td>850</td>\n",
       "      <td>800</td>\n",
       "      <td>31-Dec-20</td>\n",
       "    </tr>\n",
       "    <tr>\n",
       "      <th>1826</th>\n",
       "      <td>1827</td>\n",
       "      <td>Khairagarh</td>\n",
       "      <td>Desi</td>\n",
       "      <td>1100</td>\n",
       "      <td>1200</td>\n",
       "      <td>1150</td>\n",
       "      <td>31-Dec-20</td>\n",
       "    </tr>\n",
       "  </tbody>\n",
       "</table>\n",
       "<p>1827 rows × 7 columns</p>\n",
       "</div>"
      ],
      "text/plain": [
       "      index     Market_Name Variety Min_Price Max_Price Modal_Price Price_Date\n",
       "0         1         Achnera    Desi      1300      1400        1350  01-Jan-20\n",
       "1         2  Fatehpur Sikri   Local      1400      1520        1455  01-Jan-20\n",
       "2         3         Jagnair    Desi      1250      1350        1300  01-Jan-20\n",
       "3         4           Jarar    Desi      1200      1300        1250  01-Jan-20\n",
       "4         5      Khairagarh    Desi      1200      1300        1250  01-Jan-20\n",
       "...     ...             ...     ...       ...       ...         ...        ...\n",
       "1822   1823            Agra    Desi       800      1100         960  31-Dec-20\n",
       "1823   1824       Fatehabad    Desi       700       800         750  31-Dec-20\n",
       "1824   1825  Fatehpur Sikri   Local       900      1100        1015  31-Dec-20\n",
       "1825   1826         Jagnair    Desi       750       850         800  31-Dec-20\n",
       "1826   1827      Khairagarh    Desi      1100      1200        1150  31-Dec-20\n",
       "\n",
       "[1827 rows x 7 columns]"
      ]
     },
     "execution_count": 221,
     "metadata": {},
     "output_type": "execute_result"
    }
   ],
   "source": [
    "new_df.reset_index()"
   ]
  },
  {
   "cell_type": "code",
   "execution_count": 222,
   "id": "17c514c5",
   "metadata": {},
   "outputs": [
    {
     "data": {
      "application/vnd.jupyter.widget-view+json": {
       "model_id": "a1f921d17ec342aabd100a1fdcc722fe",
       "version_major": 2,
       "version_minor": 0
      },
      "text/plain": [
       "                                             |          | [  0%]   00:00 -> (? left)"
      ]
     },
     "metadata": {},
     "output_type": "display_data"
    },
    {
     "name": "stdout",
     "output_type": "stream",
     "text": [
      "Report SWEETVIZ_REPORT.html was generated! NOTEBOOK/COLAB USERS: the web browser MAY not pop up, regardless, the report IS saved in your notebook/colab files.\n"
     ]
    }
   ],
   "source": [
    "import sweetviz as sv\n",
    "\n",
    "my_report = sv.analyze(new_df)\n",
    "my_report.show_html() # Default arguments will generate to \"SWEETVIZ_REPORT.html\""
   ]
  },
  {
   "cell_type": "code",
   "execution_count": 223,
   "id": "59eec60a",
   "metadata": {},
   "outputs": [
    {
     "data": {
      "text/plain": [
       "Achnera           306\n",
       "Fatehpur Sikri    290\n",
       "Agra              285\n",
       "Fatehabad         258\n",
       "Jagnair           187\n",
       "Khairagarh        187\n",
       "Samsabad          168\n",
       "Jarar             146\n",
       "Name: Market_Name, dtype: int64"
      ]
     },
     "execution_count": 223,
     "metadata": {},
     "output_type": "execute_result"
    }
   ],
   "source": [
    "new_df['Market_Name'].value_counts()"
   ]
  },
  {
   "cell_type": "code",
   "execution_count": 224,
   "id": "1cf345dd",
   "metadata": {},
   "outputs": [
    {
     "name": "stdout",
     "output_type": "stream",
     "text": [
      "Market_Name : is Not Null\n",
      "Variety : is Not Null\n",
      "Min_Price : is Not Null\n",
      "Max_Price : is Not Null\n",
      "Modal_Price : is Not Null\n",
      "Price_Date : is Not Null\n"
     ]
    }
   ],
   "source": [
    "for x in new_df.columns:\n",
    "    if(pd.isnull([x])):\n",
    "        print(x, \": Null\")\n",
    "    else:\n",
    "        print(x,\": is Not Null\")"
   ]
  },
  {
   "cell_type": "code",
   "execution_count": null,
   "id": "f380b6c7",
   "metadata": {},
   "outputs": [],
   "source": []
  },
  {
   "cell_type": "code",
   "execution_count": 225,
   "id": "9b425ea3",
   "metadata": {},
   "outputs": [
    {
     "data": {
      "text/html": [
       "<div>\n",
       "<style scoped>\n",
       "    .dataframe tbody tr th:only-of-type {\n",
       "        vertical-align: middle;\n",
       "    }\n",
       "\n",
       "    .dataframe tbody tr th {\n",
       "        vertical-align: top;\n",
       "    }\n",
       "\n",
       "    .dataframe thead th {\n",
       "        text-align: right;\n",
       "    }\n",
       "</style>\n",
       "<table border=\"1\" class=\"dataframe\">\n",
       "  <thead>\n",
       "    <tr style=\"text-align: right;\">\n",
       "      <th></th>\n",
       "      <th>Market_Name</th>\n",
       "      <th>Variety</th>\n",
       "      <th>Min_Price</th>\n",
       "      <th>Max_Price</th>\n",
       "      <th>Modal_Price</th>\n",
       "      <th>Price_Date</th>\n",
       "    </tr>\n",
       "  </thead>\n",
       "  <tbody>\n",
       "    <tr>\n",
       "      <th>count</th>\n",
       "      <td>1827</td>\n",
       "      <td>1827</td>\n",
       "      <td>1827</td>\n",
       "      <td>1827</td>\n",
       "      <td>1827</td>\n",
       "      <td>1827</td>\n",
       "    </tr>\n",
       "    <tr>\n",
       "      <th>unique</th>\n",
       "      <td>8</td>\n",
       "      <td>4</td>\n",
       "      <td>153</td>\n",
       "      <td>165</td>\n",
       "      <td>295</td>\n",
       "      <td>365</td>\n",
       "    </tr>\n",
       "    <tr>\n",
       "      <th>top</th>\n",
       "      <td>Achnera</td>\n",
       "      <td>Desi</td>\n",
       "      <td>1200</td>\n",
       "      <td>1300</td>\n",
       "      <td>1200</td>\n",
       "      <td>15-Jun-20</td>\n",
       "    </tr>\n",
       "    <tr>\n",
       "      <th>freq</th>\n",
       "      <td>306</td>\n",
       "      <td>1367</td>\n",
       "      <td>149</td>\n",
       "      <td>147</td>\n",
       "      <td>111</td>\n",
       "      <td>8</td>\n",
       "    </tr>\n",
       "  </tbody>\n",
       "</table>\n",
       "</div>"
      ],
      "text/plain": [
       "       Market_Name Variety Min_Price Max_Price Modal_Price Price_Date\n",
       "count         1827    1827      1827      1827        1827       1827\n",
       "unique           8       4       153       165         295        365\n",
       "top        Achnera    Desi      1200      1300        1200  15-Jun-20\n",
       "freq           306    1367       149       147         111          8"
      ]
     },
     "execution_count": 225,
     "metadata": {},
     "output_type": "execute_result"
    }
   ],
   "source": [
    "new_df.describe()"
   ]
  },
  {
   "cell_type": "code",
   "execution_count": 226,
   "id": "cc165c8c",
   "metadata": {},
   "outputs": [
    {
     "name": "stdout",
     "output_type": "stream",
     "text": [
      "<class 'pandas.core.frame.DataFrame'>\n",
      "RangeIndex: 1827 entries, 1 to 1827\n",
      "Data columns (total 6 columns):\n",
      " #   Column       Non-Null Count  Dtype \n",
      "---  ------       --------------  ----- \n",
      " 0   Market_Name  1827 non-null   object\n",
      " 1   Variety      1827 non-null   object\n",
      " 2   Min_Price    1827 non-null   object\n",
      " 3   Max_Price    1827 non-null   object\n",
      " 4   Modal_Price  1827 non-null   object\n",
      " 5   Price_Date   1827 non-null   object\n",
      "dtypes: object(6)\n",
      "memory usage: 85.8+ KB\n"
     ]
    }
   ],
   "source": [
    "new_df.info()"
   ]
  },
  {
   "cell_type": "code",
   "execution_count": 227,
   "id": "829eb784",
   "metadata": {},
   "outputs": [
    {
     "data": {
      "text/plain": [
       "1    01-Jan-20\n",
       "2    01-Jan-20\n",
       "3    01-Jan-20\n",
       "4    01-Jan-20\n",
       "5    01-Jan-20\n",
       "Name: Price_Date, dtype: object"
      ]
     },
     "execution_count": 227,
     "metadata": {},
     "output_type": "execute_result"
    }
   ],
   "source": [
    "new_df.Price_Date.head()"
   ]
  },
  {
   "cell_type": "code",
   "execution_count": null,
   "id": "c941a5f3",
   "metadata": {},
   "outputs": [],
   "source": [
    "for i in range(1,len(new_df['Price_Date'])):\n",
    "    new_df['Price_Date'][i] = datetime.datetime.strptime(new_df['Price_Date'][i],'%d-%b-%y').strftime('%Y-%m-%d')\n",
    "    new_df['Price_Date'][i] = pd.to_datetime(new_df['Price_Date'][i])\n",
    "    \n",
    "    "
   ]
  },
  {
   "cell_type": "code",
   "execution_count": 229,
   "id": "35ef7260",
   "metadata": {},
   "outputs": [
    {
     "name": "stdout",
     "output_type": "stream",
     "text": [
      "2020-01-01 00:00:00\n"
     ]
    }
   ],
   "source": [
    "k = new_df['Price_Date'][1]\n",
    "print(k)"
   ]
  },
  {
   "cell_type": "code",
   "execution_count": 250,
   "id": "13287982",
   "metadata": {},
   "outputs": [
    {
     "data": {
      "text/html": [
       "<div>\n",
       "<style scoped>\n",
       "    .dataframe tbody tr th:only-of-type {\n",
       "        vertical-align: middle;\n",
       "    }\n",
       "\n",
       "    .dataframe tbody tr th {\n",
       "        vertical-align: top;\n",
       "    }\n",
       "\n",
       "    .dataframe thead th {\n",
       "        text-align: right;\n",
       "    }\n",
       "</style>\n",
       "<table border=\"1\" class=\"dataframe\">\n",
       "  <thead>\n",
       "    <tr style=\"text-align: right;\">\n",
       "      <th></th>\n",
       "      <th>Market_Name</th>\n",
       "      <th>Variety</th>\n",
       "      <th>Min_Price</th>\n",
       "      <th>Max_Price</th>\n",
       "      <th>Modal_Price</th>\n",
       "      <th>Price_Date</th>\n",
       "    </tr>\n",
       "  </thead>\n",
       "  <tbody>\n",
       "    <tr>\n",
       "      <th>1823</th>\n",
       "      <td>Agra</td>\n",
       "      <td>Desi</td>\n",
       "      <td>1100</td>\n",
       "      <td>1100</td>\n",
       "      <td>960</td>\n",
       "      <td>2020-12-31</td>\n",
       "    </tr>\n",
       "    <tr>\n",
       "      <th>1824</th>\n",
       "      <td>Fatehabad</td>\n",
       "      <td>Desi</td>\n",
       "      <td>800</td>\n",
       "      <td>800</td>\n",
       "      <td>750</td>\n",
       "      <td>2020-12-31</td>\n",
       "    </tr>\n",
       "    <tr>\n",
       "      <th>1825</th>\n",
       "      <td>Fatehpur Sikri</td>\n",
       "      <td>Local</td>\n",
       "      <td>1100</td>\n",
       "      <td>1100</td>\n",
       "      <td>1015</td>\n",
       "      <td>2020-12-31</td>\n",
       "    </tr>\n",
       "    <tr>\n",
       "      <th>1826</th>\n",
       "      <td>Jagnair</td>\n",
       "      <td>Desi</td>\n",
       "      <td>850</td>\n",
       "      <td>850</td>\n",
       "      <td>800</td>\n",
       "      <td>2020-12-31</td>\n",
       "    </tr>\n",
       "    <tr>\n",
       "      <th>1827</th>\n",
       "      <td>Khairagarh</td>\n",
       "      <td>Desi</td>\n",
       "      <td>1200</td>\n",
       "      <td>1200</td>\n",
       "      <td>1150</td>\n",
       "      <td>2020-12-31</td>\n",
       "    </tr>\n",
       "  </tbody>\n",
       "</table>\n",
       "</div>"
      ],
      "text/plain": [
       "         Market_Name Variety  Min_Price  Max_Price  Modal_Price Price_Date\n",
       "1823            Agra    Desi       1100       1100          960 2020-12-31\n",
       "1824       Fatehabad    Desi        800        800          750 2020-12-31\n",
       "1825  Fatehpur Sikri   Local       1100       1100         1015 2020-12-31\n",
       "1826         Jagnair    Desi        850        850          800 2020-12-31\n",
       "1827      Khairagarh    Desi       1200       1200         1150 2020-12-31"
      ]
     },
     "execution_count": 250,
     "metadata": {},
     "output_type": "execute_result"
    }
   ],
   "source": [
    "new_df.tail()"
   ]
  },
  {
   "cell_type": "code",
   "execution_count": 231,
   "id": "3e9d7e4e",
   "metadata": {},
   "outputs": [
    {
     "data": {
      "text/plain": [
       "pandas._libs.tslibs.timestamps.Timestamp"
      ]
     },
     "execution_count": 231,
     "metadata": {},
     "output_type": "execute_result"
    }
   ],
   "source": [
    "type(new_df['Price_Date'][1])"
   ]
  },
  {
   "cell_type": "code",
   "execution_count": 247,
   "id": "3a7904ec",
   "metadata": {},
   "outputs": [
    {
     "data": {
      "text/plain": [
       "Market_Name            object\n",
       "Variety                object\n",
       "Min_Price               int64\n",
       "Max_Price               int64\n",
       "Modal_Price             int64\n",
       "Price_Date     datetime64[ns]\n",
       "dtype: object"
      ]
     },
     "execution_count": 247,
     "metadata": {},
     "output_type": "execute_result"
    }
   ],
   "source": [
    "new_df.dtypes"
   ]
  },
  {
   "cell_type": "code",
   "execution_count": 237,
   "id": "8541b50f",
   "metadata": {},
   "outputs": [],
   "source": [
    "new_df['Modal_Price'] = pd.to_numeric(new_df['Modal_Price'])"
   ]
  },
  {
   "cell_type": "code",
   "execution_count": 239,
   "id": "a99416e8",
   "metadata": {},
   "outputs": [],
   "source": [
    "new_df['Price_Date'] = pd.to_datetime(new_df['Price_Date'])"
   ]
  },
  {
   "cell_type": "code",
   "execution_count": 241,
   "id": "48d98d61",
   "metadata": {},
   "outputs": [],
   "source": [
    "new_df['Min_Price'] = pd.to_numeric(new_df['Min_Price'])"
   ]
  },
  {
   "cell_type": "code",
   "execution_count": 243,
   "id": "0efbe218",
   "metadata": {},
   "outputs": [],
   "source": [
    "new_df['Max_Price'] = pd.to_numeric(new_df['Max_Price'])"
   ]
  },
  {
   "cell_type": "code",
   "execution_count": 249,
   "id": "2bb2e09e",
   "metadata": {},
   "outputs": [
    {
     "data": {
      "text/plain": [
       "<AxesSubplot:xlabel='Price_Date'>"
      ]
     },
     "execution_count": 249,
     "metadata": {},
     "output_type": "execute_result"
    },
    {
     "data": {
      "image/png": "[encoded data removed]",
      "text/plain": [
       "<Figure size 600x400 with 1 Axes>"
      ]
     },
     "metadata": {},
     "output_type": "display_data"
    }
   ],
   "source": [
    "new_df.plot(x ='Price_Date', y='Modal_Price')"
   ]
  },
  {
   "cell_type": "code",
   "execution_count": 274,
   "id": "a02b02a6",
   "metadata": {},
   "outputs": [
    {
     "data": {
      "image/png": "[encoded data removed]",
      "text/plain": [
       "<Figure size 600x400 with 1 Axes>"
      ]
     },
     "metadata": {},
     "output_type": "display_data"
    },
    {
     "data": {
      "image/png": "[encoded data removed]",
      "text/plain": [
       "<Figure size 600x400 with 1 Axes>"
      ]
     },
     "metadata": {},
     "output_type": "display_data"
    },
    {
     "data": {
      "image/png": "[encoded data removed]",
      "text/plain": [
       "<Figure size 600x400 with 1 Axes>"
      ]
     },
     "metadata": {},
     "output_type": "display_data"
    },
    {
     "data": {
      "image/png": "[encoded data removed]",
      "text/plain": [
       "<Figure size 600x400 with 1 Axes>"
      ]
     },
     "metadata": {},
     "output_type": "display_data"
    },
    {
     "data": {
      "image/png": "[encoded data removed]",
      "text/plain": [
       "<Figure size 600x400 with 1 Axes>"
      ]
     },
     "metadata": {},
     "output_type": "display_data"
    },
    {
     "data": {
      "image/png": "[encoded data removed]",
      "text/plain": [
       "<Figure size 600x400 with 1 Axes>"
      ]
     },
     "metadata": {},
     "output_type": "display_data"
    },
    {
     "data": {
      "image/png": "[encoded data removed]",
      "text/plain": [
       "<Figure size 600x400 with 1 Axes>"
      ]
     },
     "metadata": {},
     "output_type": "display_data"
    },
    {
     "data": {
      "image/png": "[encoded data removed]",
      "text/plain": [
       "<Figure size 600x400 with 1 Axes>"
      ]
     },
     "metadata": {},
     "output_type": "display_data"
    }
   ],
   "source": [
    "for X in new_df['Market_Name'].unique():\n",
    "    X = new_df[new_df['Market_Name'] == X]\n",
    "    X.plot(x = 'Price_Date', y='Modal_Price')\n",
    "    \n",
    "    "
   ]
  },
  {
   "cell_type": "code",
   "execution_count": 275,
   "id": "36e5a6a9",
   "metadata": {},
   "outputs": [],
   "source": [
    "#I will use modal price for the prediction of prices in the Mandi"
   ]
  },
  {
   "cell_type": "code",
   "execution_count": 320,
   "id": "d9c41967",
   "metadata": {},
   "outputs": [],
   "source": [
    "agra = new_df[new_df['Market_Name'] == 'Agra']\n",
    "df1 = agra.reset_index()['Modal_Price']"
   ]
  },
  {
   "cell_type": "code",
   "execution_count": 321,
   "id": "e53fcd80",
   "metadata": {},
   "outputs": [
    {
     "data": {
      "text/plain": [
       "0      1400\n",
       "1      1380\n",
       "2      1310\n",
       "3      1280\n",
       "4      1300\n",
       "       ... \n",
       "280     980\n",
       "281     950\n",
       "282     950\n",
       "283     940\n",
       "284     960\n",
       "Name: Modal_Price, Length: 285, dtype: int64"
      ]
     },
     "execution_count": 321,
     "metadata": {},
     "output_type": "execute_result"
    }
   ],
   "source": [
    "df1"
   ]
  },
  {
   "cell_type": "code",
   "execution_count": 322,
   "id": "77a502b9",
   "metadata": {},
   "outputs": [
    {
     "data": {
      "text/plain": [
       "<AxesSubplot:>"
      ]
     },
     "execution_count": 322,
     "metadata": {},
     "output_type": "execute_result"
    },
    {
     "data": {
      "image/png": "[encoded data removed]",
      "text/plain": [
       "<Figure size 600x400 with 1 Axes>"
      ]
     },
     "metadata": {},
     "output_type": "display_data"
    }
   ],
   "source": [
    "df1.plot(x = 'Price_Date', y = 'Modal_Price')"
   ]
  },
  {
   "cell_type": "code",
   "execution_count": 323,
   "id": "0c3c6ad0",
   "metadata": {},
   "outputs": [],
   "source": [
    "from sklearn.preprocessing import MinMaxScaler\n",
    "scaler=MinMaxScaler(feature_range=(0,1))\n",
    "df1=scaler.fit_transform(np.array(df1).reshape(-1,1))"
   ]
  },
  {
   "cell_type": "code",
   "execution_count": 324,
   "id": "e49a004a",
   "metadata": {},
   "outputs": [],
   "source": [
    "training_size=int(len(df1)*0.65)\n",
    "test_size=len(df1)-training_size\n",
    "train_data,test_data=df1[0:training_size,:],df1[training_size:len(df1),:1]"
   ]
  },
  {
   "cell_type": "code",
   "execution_count": 325,
   "id": "28ffc51d",
   "metadata": {},
   "outputs": [
    {
     "data": {
      "text/plain": [
       "(185, 100)"
      ]
     },
     "execution_count": 325,
     "metadata": {},
     "output_type": "execute_result"
    }
   ],
   "source": [
    "training_size,test_size"
   ]
  },
  {
   "cell_type": "code",
   "execution_count": 326,
   "id": "53047c32",
   "metadata": {},
   "outputs": [
    {
     "data": {
      "text/plain": [
       "array([[0.25      ],\n",
       "       [0.24090909],\n",
       "       [0.20909091],\n",
       "       [0.19545455],\n",
       "       [0.20454545],\n",
       "       [0.21363636],\n",
       "       [0.18181818],\n",
       "       [0.20454545],\n",
       "       [0.18181818],\n",
       "       [0.16818182],\n",
       "       [0.16818182],\n",
       "       [0.18181818],\n",
       "       [0.16818182],\n",
       "       [0.17045455],\n",
       "       [0.18636364],\n",
       "       [0.20454545],\n",
       "       [0.19545455],\n",
       "       [0.18181818],\n",
       "       [0.18863636],\n",
       "       [0.18636364],\n",
       "       [0.15      ],\n",
       "       [0.13636364],\n",
       "       [0.15      ],\n",
       "       [0.10454545],\n",
       "       [0.06818182],\n",
       "       [0.05909091],\n",
       "       [0.05454545],\n",
       "       [0.05909091],\n",
       "       [0.02272727],\n",
       "       [0.03181818],\n",
       "       [0.02727273],\n",
       "       [0.02272727],\n",
       "       [0.03181818],\n",
       "       [0.02727273],\n",
       "       [0.02272727],\n",
       "       [0.025     ],\n",
       "       [0.02727273],\n",
       "       [0.02272727],\n",
       "       [0.02272727],\n",
       "       [0.01818182],\n",
       "       [0.00909091],\n",
       "       [0.01363636],\n",
       "       [0.00909091],\n",
       "       [0.01363636],\n",
       "       [0.00909091],\n",
       "       [0.00454545],\n",
       "       [0.00227273],\n",
       "       [0.        ],\n",
       "       [0.04545455],\n",
       "       [0.09090909],\n",
       "       [0.12272727],\n",
       "       [0.13181818],\n",
       "       [0.16818182],\n",
       "       [0.15909091],\n",
       "       [0.16590909],\n",
       "       [0.13636364],\n",
       "       [0.14545455],\n",
       "       [0.15      ],\n",
       "       [0.15454545],\n",
       "       [0.15909091],\n",
       "       [0.15909091],\n",
       "       [0.16363636],\n",
       "       [0.39545455],\n",
       "       [0.40909091],\n",
       "       [0.33181818],\n",
       "       [0.16818182],\n",
       "       [0.18181818],\n",
       "       [0.18636364],\n",
       "       [0.18636364],\n",
       "       [0.21363636],\n",
       "       [0.19545455],\n",
       "       [0.20909091],\n",
       "       [0.2       ],\n",
       "       [0.20909091],\n",
       "       [0.20909091],\n",
       "       [0.20454545],\n",
       "       [0.21590909],\n",
       "       [0.21818182],\n",
       "       [0.21363636],\n",
       "       [0.21590909],\n",
       "       [0.21590909],\n",
       "       [0.21818182],\n",
       "       [0.21590909],\n",
       "       [0.21818182],\n",
       "       [0.21818182],\n",
       "       [0.21590909],\n",
       "       [0.22272727],\n",
       "       [0.21818182],\n",
       "       [0.21818182],\n",
       "       [0.21590909],\n",
       "       [0.22272727],\n",
       "       [0.21818182],\n",
       "       [0.21590909],\n",
       "       [0.22045455],\n",
       "       [0.21818182],\n",
       "       [0.21818182],\n",
       "       [0.21590909],\n",
       "       [0.21818182],\n",
       "       [0.22272727],\n",
       "       [0.21818182],\n",
       "       [0.22272727],\n",
       "       [0.22727273],\n",
       "       [0.22272727],\n",
       "       [0.225     ],\n",
       "       [0.21818182],\n",
       "       [0.22272727],\n",
       "       [0.225     ],\n",
       "       [0.22727273],\n",
       "       [0.22272727],\n",
       "       [0.22727273],\n",
       "       [0.22272727],\n",
       "       [0.22727273],\n",
       "       [0.22045455],\n",
       "       [0.22272727],\n",
       "       [0.225     ],\n",
       "       [0.22272727],\n",
       "       [0.22045455],\n",
       "       [0.21818182],\n",
       "       [0.21363636],\n",
       "       [0.22727273],\n",
       "       [0.225     ],\n",
       "       [0.22272727],\n",
       "       [0.22727273],\n",
       "       [0.22272727],\n",
       "       [0.22727273],\n",
       "       [0.23181818],\n",
       "       [0.24090909],\n",
       "       [0.23636364],\n",
       "       [0.25909091],\n",
       "       [0.25454545],\n",
       "       [0.25      ],\n",
       "       [0.27272727],\n",
       "       [0.27727273],\n",
       "       [0.27272727],\n",
       "       [0.29545455],\n",
       "       [0.29090909],\n",
       "       [0.28636364],\n",
       "       [0.29545455],\n",
       "       [0.30454545],\n",
       "       [0.32272727],\n",
       "       [0.31818182],\n",
       "       [0.35      ],\n",
       "       [0.35227273],\n",
       "       [0.35454545],\n",
       "       [0.36363636],\n",
       "       [0.38636364],\n",
       "       [0.39545455],\n",
       "       [0.4       ],\n",
       "       [0.39090909],\n",
       "       [0.43181818],\n",
       "       [0.43181818],\n",
       "       [0.42272727],\n",
       "       [0.41818182],\n",
       "       [0.43181818],\n",
       "       [0.43636364],\n",
       "       [0.44545455],\n",
       "       [0.44318182],\n",
       "       [0.45454545],\n",
       "       [0.46363636],\n",
       "       [0.46818182],\n",
       "       [0.46818182],\n",
       "       [0.46363636],\n",
       "       [0.47272727],\n",
       "       [0.47272727],\n",
       "       [0.47727273],\n",
       "       [0.47727273],\n",
       "       [0.47272727],\n",
       "       [0.45      ],\n",
       "       [0.47727273],\n",
       "       [0.51363636],\n",
       "       [0.52272727],\n",
       "       [0.5       ],\n",
       "       [0.51363636],\n",
       "       [0.51590909],\n",
       "       [0.51363636],\n",
       "       [0.51590909],\n",
       "       [0.52272727],\n",
       "       [0.54545455],\n",
       "       [0.56818182],\n",
       "       [0.55909091],\n",
       "       [0.5       ],\n",
       "       [0.52272727],\n",
       "       [0.51818182],\n",
       "       [0.52272727],\n",
       "       [0.51363636]])"
      ]
     },
     "execution_count": 326,
     "metadata": {},
     "output_type": "execute_result"
    }
   ],
   "source": [
    "train_data"
   ]
  },
  {
   "cell_type": "code",
   "execution_count": 373,
   "id": "5e57039e",
   "metadata": {},
   "outputs": [],
   "source": [
    "import numpy\n",
    "# convert an array of values into a dataset matrix\n",
    "def create_dataset(dataset, time_step=1):\n",
    "\tdataX, dataY = [], []\n",
    "\tfor i in range(len(dataset)-time_step-1):\n",
    "\t\ta = dataset[i:(i+time_step), 0]   ###i=0, 0,1,2,3-----49  50\n",
    "\t\tdataX.append(a)\n",
    "\t\tdataY.append(dataset[i + time_step, 0])\n",
    "\treturn numpy.array(dataX), numpy.array(dataY)"
   ]
  },
  {
   "cell_type": "code",
   "execution_count": 374,
   "id": "290b4c96",
   "metadata": {},
   "outputs": [],
   "source": [
    "# reshape into X=t,t+1,t+2,t+3 and Y=t+4\n",
    "time_step = 50\n",
    "X_train, y_train = create_dataset(train_data, time_step)\n",
    "X_test, ytest = create_dataset(test_data, time_step)"
   ]
  },
  {
   "cell_type": "code",
   "execution_count": 375,
   "id": "63cff19f",
   "metadata": {},
   "outputs": [
    {
     "name": "stdout",
     "output_type": "stream",
     "text": [
      "(134, 50)\n",
      "(134,)\n"
     ]
    },
    {
     "data": {
      "text/plain": [
       "(None, None)"
      ]
     },
     "execution_count": 375,
     "metadata": {},
     "output_type": "execute_result"
    }
   ],
   "source": [
    "print(X_train.shape), print(y_train.shape)"
   ]
  },
  {
   "cell_type": "code",
   "execution_count": null,
   "id": "761a9b52",
   "metadata": {},
   "outputs": [],
   "source": []
  },
  {
   "cell_type": "code",
   "execution_count": 376,
   "id": "e7730dc6",
   "metadata": {},
   "outputs": [
    {
     "name": "stdout",
     "output_type": "stream",
     "text": [
      "(49, 50)\n",
      "(49,)\n"
     ]
    },
    {
     "data": {
      "text/plain": [
       "(None, None)"
      ]
     },
     "execution_count": 376,
     "metadata": {},
     "output_type": "execute_result"
    }
   ],
   "source": [
    "print(X_test.shape), print(ytest.shape)"
   ]
  },
  {
   "cell_type": "code",
   "execution_count": 377,
   "id": "2461623f",
   "metadata": {},
   "outputs": [],
   "source": [
    "# reshape input to be [samples, time steps, features] which is required for LSTM\n",
    "X_train =X_train.reshape(X_train.shape[0],X_train.shape[1] , 1)\n",
    "X_test = X_test.reshape(X_test.shape[0],X_test.shape[1] , 1)"
   ]
  },
  {
   "cell_type": "code",
   "execution_count": 378,
   "id": "2bb1ab80",
   "metadata": {},
   "outputs": [],
   "source": [
    "\n",
    "### Create the Stacked LSTM model\n",
    "from tensorflow.keras.models import Sequential\n",
    "from tensorflow.keras.layers import Dense\n",
    "from tensorflow.keras.layers import LSTM"
   ]
  },
  {
   "cell_type": "code",
   "execution_count": 380,
   "id": "62fad018",
   "metadata": {},
   "outputs": [],
   "source": [
    "\n",
    "model=Sequential()\n",
    "model.add(LSTM(50,return_sequences=True,input_shape=(100,1)))\n",
    "model.add(LSTM(50,return_sequences=True))\n",
    "model.add(LSTM(50))\n",
    "model.add(Dense(1))\n",
    "model.compile(loss='mean_squared_error',optimizer='adam')"
   ]
  },
  {
   "cell_type": "code",
   "execution_count": 381,
   "id": "6ebd586e",
   "metadata": {},
   "outputs": [
    {
     "name": "stdout",
     "output_type": "stream",
     "text": [
      "Model: \"sequential_3\"\n",
      "_________________________________________________________________\n",
      "Layer (type)                 Output Shape              Param #   \n",
      "=================================================================\n",
      "lstm_9 (LSTM)                (None, 100, 50)           10400     \n",
      "_________________________________________________________________\n",
      "lstm_10 (LSTM)               (None, 100, 50)           20200     \n",
      "_________________________________________________________________\n",
      "lstm_11 (LSTM)               (None, 50)                20200     \n",
      "_________________________________________________________________\n",
      "dense_3 (Dense)              (None, 1)                 51        \n",
      "=================================================================\n",
      "Total params: 50,851\n",
      "Trainable params: 50,851\n",
      "Non-trainable params: 0\n",
      "_________________________________________________________________\n"
     ]
    }
   ],
   "source": [
    "model.summary()"
   ]
  },
  {
   "cell_type": "code",
   "execution_count": 382,
   "id": "863707a0",
   "metadata": {},
   "outputs": [
    {
     "name": "stdout",
     "output_type": "stream",
     "text": [
      "Epoch 1/100\n",
      "WARNING:tensorflow:Model was constructed with shape (None, 100, 1) for input Tensor(\"lstm_9_input:0\", shape=(None, 100, 1), dtype=float32), but it was called on an input with incompatible shape (None, 50, 1).\n",
      "WARNING:tensorflow:Model was constructed with shape (None, 100, 1) for input Tensor(\"lstm_9_input:0\", shape=(None, 100, 1), dtype=float32), but it was called on an input with incompatible shape (None, 50, 1).\n",
      "5/5 [==============================] - ETA: 0s - loss: 0.0567WARNING:tensorflow:Model was constructed with shape (None, 100, 1) for input Tensor(\"lstm_9_input:0\", shape=(None, 100, 1), dtype=float32), but it was called on an input with incompatible shape (None, 50, 1).\n",
      "5/5 [==============================] - 2s 315ms/step - loss: 0.0567 - val_loss: 0.1018\n",
      "Epoch 2/100\n",
      "5/5 [==============================] - 0s 47ms/step - loss: 0.0139 - val_loss: 0.0963\n",
      "Epoch 3/100\n",
      "5/5 [==============================] - 0s 40ms/step - loss: 0.0053 - val_loss: 0.1048\n",
      "Epoch 4/100\n",
      "5/5 [==============================] - 0s 37ms/step - loss: 0.0080 - val_loss: 0.0838\n",
      "Epoch 5/100\n",
      "5/5 [==============================] - 0s 38ms/step - loss: 0.0040 - val_loss: 0.0932\n",
      "Epoch 6/100\n",
      "5/5 [==============================] - 0s 38ms/step - loss: 0.0038 - val_loss: 0.0810\n",
      "Epoch 7/100\n",
      "5/5 [==============================] - 0s 38ms/step - loss: 0.0038 - val_loss: 0.0790\n",
      "Epoch 8/100\n",
      "5/5 [==============================] - 0s 38ms/step - loss: 0.0031 - val_loss: 0.0939\n",
      "Epoch 9/100\n",
      "5/5 [==============================] - 0s 37ms/step - loss: 0.0034 - val_loss: 0.0981\n",
      "Epoch 10/100\n",
      "5/5 [==============================] - 0s 37ms/step - loss: 0.0028 - val_loss: 0.0822\n",
      "Epoch 11/100\n",
      "5/5 [==============================] - 0s 38ms/step - loss: 0.0027 - val_loss: 0.1112\n",
      "Epoch 12/100\n",
      "5/5 [==============================] - 0s 37ms/step - loss: 0.0029 - val_loss: 0.1212\n",
      "Epoch 13/100\n",
      "5/5 [==============================] - 0s 37ms/step - loss: 0.0024 - val_loss: 0.0922\n",
      "Epoch 14/100\n",
      "5/5 [==============================] - 0s 37ms/step - loss: 0.0025 - val_loss: 0.1131\n",
      "Epoch 15/100\n",
      "5/5 [==============================] - 0s 37ms/step - loss: 0.0024 - val_loss: 0.1122\n",
      "Epoch 16/100\n",
      "5/5 [==============================] - 0s 37ms/step - loss: 0.0025 - val_loss: 0.0990\n",
      "Epoch 17/100\n",
      "5/5 [==============================] - 0s 37ms/step - loss: 0.0023 - val_loss: 0.1237\n",
      "Epoch 18/100\n",
      "5/5 [==============================] - 0s 38ms/step - loss: 0.0024 - val_loss: 0.0972\n",
      "Epoch 19/100\n",
      "5/5 [==============================] - 0s 39ms/step - loss: 0.0023 - val_loss: 0.1049\n",
      "Epoch 20/100\n",
      "5/5 [==============================] - 0s 43ms/step - loss: 0.0022 - val_loss: 0.1063\n",
      "Epoch 21/100\n",
      "5/5 [==============================] - 0s 40ms/step - loss: 0.0022 - val_loss: 0.1069\n",
      "Epoch 22/100\n",
      "5/5 [==============================] - 0s 37ms/step - loss: 0.0021 - val_loss: 0.1050\n",
      "Epoch 23/100\n",
      "5/5 [==============================] - 0s 36ms/step - loss: 0.0021 - val_loss: 0.1115\n",
      "Epoch 24/100\n",
      "5/5 [==============================] - 0s 37ms/step - loss: 0.0021 - val_loss: 0.1087\n",
      "Epoch 25/100\n",
      "5/5 [==============================] - 0s 37ms/step - loss: 0.0021 - val_loss: 0.1076\n",
      "Epoch 26/100\n",
      "5/5 [==============================] - 0s 37ms/step - loss: 0.0020 - val_loss: 0.1300\n",
      "Epoch 27/100\n",
      "5/5 [==============================] - 0s 42ms/step - loss: 0.0021 - val_loss: 0.1063\n",
      "Epoch 28/100\n",
      "5/5 [==============================] - 0s 37ms/step - loss: 0.0020 - val_loss: 0.1256\n",
      "Epoch 29/100\n",
      "5/5 [==============================] - 0s 37ms/step - loss: 0.0020 - val_loss: 0.1196\n",
      "Epoch 30/100\n",
      "5/5 [==============================] - 0s 37ms/step - loss: 0.0020 - val_loss: 0.1169\n",
      "Epoch 31/100\n",
      "5/5 [==============================] - 0s 37ms/step - loss: 0.0019 - val_loss: 0.1035\n",
      "Epoch 32/100\n",
      "5/5 [==============================] - 0s 37ms/step - loss: 0.0019 - val_loss: 0.1097\n",
      "Epoch 33/100\n",
      "5/5 [==============================] - 0s 37ms/step - loss: 0.0019 - val_loss: 0.1133\n",
      "Epoch 34/100\n",
      "5/5 [==============================] - 0s 37ms/step - loss: 0.0019 - val_loss: 0.1124\n",
      "Epoch 35/100\n",
      "5/5 [==============================] - 0s 37ms/step - loss: 0.0019 - val_loss: 0.1356\n",
      "Epoch 36/100\n",
      "5/5 [==============================] - 0s 37ms/step - loss: 0.0020 - val_loss: 0.0935\n",
      "Epoch 37/100\n",
      "5/5 [==============================] - 0s 38ms/step - loss: 0.0020 - val_loss: 0.1401\n",
      "Epoch 38/100\n",
      "5/5 [==============================] - 0s 36ms/step - loss: 0.0021 - val_loss: 0.0919\n",
      "Epoch 39/100\n",
      "5/5 [==============================] - 0s 38ms/step - loss: 0.0018 - val_loss: 0.0971\n",
      "Epoch 40/100\n",
      "5/5 [==============================] - 0s 39ms/step - loss: 0.0018 - val_loss: 0.0832\n",
      "Epoch 41/100\n",
      "5/5 [==============================] - 0s 40ms/step - loss: 0.0017 - val_loss: 0.0931\n",
      "Epoch 42/100\n",
      "5/5 [==============================] - 0s 41ms/step - loss: 0.0017 - val_loss: 0.1168\n",
      "Epoch 43/100\n",
      "5/5 [==============================] - 0s 38ms/step - loss: 0.0017 - val_loss: 0.0851\n",
      "Epoch 44/100\n",
      "5/5 [==============================] - 0s 37ms/step - loss: 0.0017 - val_loss: 0.0918\n",
      "Epoch 45/100\n",
      "5/5 [==============================] - 0s 37ms/step - loss: 0.0016 - val_loss: 0.0947\n",
      "Epoch 46/100\n",
      "5/5 [==============================] - 0s 37ms/step - loss: 0.0016 - val_loss: 0.0937\n",
      "Epoch 47/100\n",
      "5/5 [==============================] - 0s 38ms/step - loss: 0.0016 - val_loss: 0.1103\n",
      "Epoch 48/100\n",
      "5/5 [==============================] - 0s 37ms/step - loss: 0.0017 - val_loss: 0.0336\n",
      "Epoch 49/100\n",
      "5/5 [==============================] - 0s 37ms/step - loss: 0.0018 - val_loss: 0.0906\n",
      "Epoch 50/100\n",
      "5/5 [==============================] - 0s 37ms/step - loss: 0.0017 - val_loss: 0.0736\n",
      "Epoch 51/100\n",
      "5/5 [==============================] - 0s 37ms/step - loss: 0.0016 - val_loss: 0.1196\n",
      "Epoch 52/100\n",
      "5/5 [==============================] - 0s 37ms/step - loss: 0.0016 - val_loss: 0.1428\n",
      "Epoch 53/100\n",
      "5/5 [==============================] - 0s 37ms/step - loss: 0.0016 - val_loss: 0.1403\n",
      "Epoch 54/100\n",
      "5/5 [==============================] - 0s 37ms/step - loss: 0.0016 - val_loss: 0.0434\n",
      "Epoch 55/100\n",
      "5/5 [==============================] - 0s 39ms/step - loss: 0.0018 - val_loss: 0.1839\n",
      "Epoch 56/100\n",
      "5/5 [==============================] - 0s 39ms/step - loss: 0.0021 - val_loss: 0.0331\n",
      "Epoch 57/100\n",
      "5/5 [==============================] - 0s 39ms/step - loss: 0.0021 - val_loss: 0.1306\n",
      "Epoch 58/100\n",
      "5/5 [==============================] - 0s 37ms/step - loss: 0.0018 - val_loss: 0.0513\n",
      "Epoch 59/100\n",
      "5/5 [==============================] - 0s 36ms/step - loss: 0.0018 - val_loss: 0.0841\n",
      "Epoch 60/100\n",
      "5/5 [==============================] - 0s 36ms/step - loss: 0.0017 - val_loss: 0.0940\n",
      "Epoch 61/100\n",
      "5/5 [==============================] - 0s 36ms/step - loss: 0.0015 - val_loss: 0.1283\n",
      "Epoch 62/100\n",
      "5/5 [==============================] - 0s 38ms/step - loss: 0.0016 - val_loss: 0.0972\n",
      "Epoch 63/100\n",
      "5/5 [==============================] - 0s 41ms/step - loss: 0.0015 - val_loss: 0.0898\n",
      "Epoch 64/100\n",
      "5/5 [==============================] - 0s 40ms/step - loss: 0.0015 - val_loss: 0.0752\n",
      "Epoch 65/100\n",
      "5/5 [==============================] - 0s 36ms/step - loss: 0.0016 - val_loss: 0.0541\n",
      "Epoch 66/100\n",
      "5/5 [==============================] - 0s 36ms/step - loss: 0.0016 - val_loss: 0.0736\n",
      "Epoch 67/100\n",
      "5/5 [==============================] - 0s 36ms/step - loss: 0.0015 - val_loss: 0.0798\n",
      "Epoch 68/100\n",
      "5/5 [==============================] - 0s 36ms/step - loss: 0.0015 - val_loss: 0.0495\n",
      "Epoch 69/100\n",
      "5/5 [==============================] - 0s 40ms/step - loss: 0.0015 - val_loss: 0.0554\n",
      "Epoch 70/100\n",
      "5/5 [==============================] - 0s 42ms/step - loss: 0.0016 - val_loss: 0.0806\n",
      "Epoch 71/100\n",
      "5/5 [==============================] - 0s 37ms/step - loss: 0.0016 - val_loss: 0.0602\n",
      "Epoch 72/100\n",
      "5/5 [==============================] - 0s 38ms/step - loss: 0.0016 - val_loss: 0.1408\n",
      "Epoch 73/100\n",
      "5/5 [==============================] - 0s 36ms/step - loss: 0.0015 - val_loss: 0.0777\n",
      "Epoch 74/100\n",
      "5/5 [==============================] - 0s 40ms/step - loss: 0.0016 - val_loss: 0.0933\n",
      "Epoch 75/100\n",
      "5/5 [==============================] - 0s 46ms/step - loss: 0.0016 - val_loss: 0.1227\n",
      "Epoch 76/100\n",
      "5/5 [==============================] - 0s 36ms/step - loss: 0.0016 - val_loss: 0.0847\n",
      "Epoch 77/100\n",
      "5/5 [==============================] - 0s 38ms/step - loss: 0.0015 - val_loss: 0.0986\n",
      "Epoch 78/100\n",
      "5/5 [==============================] - 0s 35ms/step - loss: 0.0015 - val_loss: 0.0498\n",
      "Epoch 79/100\n",
      "5/5 [==============================] - 0s 35ms/step - loss: 0.0016 - val_loss: 0.1017\n",
      "Epoch 80/100\n",
      "5/5 [==============================] - 0s 37ms/step - loss: 0.0015 - val_loss: 0.0813\n",
      "Epoch 81/100\n",
      "5/5 [==============================] - 0s 35ms/step - loss: 0.0014 - val_loss: 0.0859\n",
      "Epoch 82/100\n",
      "5/5 [==============================] - 0s 35ms/step - loss: 0.0015 - val_loss: 0.0674\n",
      "Epoch 83/100\n",
      "5/5 [==============================] - 0s 37ms/step - loss: 0.0015 - val_loss: 0.0321\n",
      "Epoch 84/100\n",
      "5/5 [==============================] - 0s 38ms/step - loss: 0.0018 - val_loss: 0.0885\n",
      "Epoch 85/100\n",
      "5/5 [==============================] - 0s 42ms/step - loss: 0.0015 - val_loss: 0.0566\n",
      "Epoch 86/100\n",
      "5/5 [==============================] - 0s 39ms/step - loss: 0.0015 - val_loss: 0.0882\n",
      "Epoch 87/100\n",
      "5/5 [==============================] - 0s 35ms/step - loss: 0.0015 - val_loss: 0.0864\n",
      "Epoch 88/100\n",
      "5/5 [==============================] - 0s 35ms/step - loss: 0.0015 - val_loss: 0.0543\n",
      "Epoch 89/100\n",
      "5/5 [==============================] - 0s 35ms/step - loss: 0.0015 - val_loss: 0.1229\n",
      "Epoch 90/100\n",
      "5/5 [==============================] - 0s 36ms/step - loss: 0.0017 - val_loss: 0.0413\n",
      "Epoch 91/100\n",
      "5/5 [==============================] - 0s 43ms/step - loss: 0.0017 - val_loss: 0.1005\n",
      "Epoch 92/100\n",
      "5/5 [==============================] - 0s 36ms/step - loss: 0.0016 - val_loss: 0.0574\n",
      "Epoch 93/100\n",
      "5/5 [==============================] - 0s 36ms/step - loss: 0.0014 - val_loss: 0.0763\n",
      "Epoch 94/100\n",
      "5/5 [==============================] - 0s 36ms/step - loss: 0.0015 - val_loss: 0.1172\n",
      "Epoch 95/100\n",
      "5/5 [==============================] - 0s 35ms/step - loss: 0.0017 - val_loss: 0.0564\n",
      "Epoch 96/100\n",
      "5/5 [==============================] - 0s 36ms/step - loss: 0.0018 - val_loss: 0.1009\n",
      "Epoch 97/100\n",
      "5/5 [==============================] - 0s 38ms/step - loss: 0.0016 - val_loss: 0.0481\n",
      "Epoch 98/100\n",
      "5/5 [==============================] - 0s 39ms/step - loss: 0.0014 - val_loss: 0.0717\n",
      "Epoch 99/100\n",
      "5/5 [==============================] - 0s 35ms/step - loss: 0.0017 - val_loss: 0.0397\n",
      "Epoch 100/100\n",
      "5/5 [==============================] - 0s 36ms/step - loss: 0.0016 - val_loss: 0.0930\n"
     ]
    },
    {
     "data": {
      "text/plain": [
       "<tensorflow.python.keras.callbacks.History at 0x22b73be3910>"
      ]
     },
     "execution_count": 382,
     "metadata": {},
     "output_type": "execute_result"
    }
   ],
   "source": [
    "model.fit(X_train,y_train,validation_data=(X_test,ytest),epochs=100,batch_size=32,verbose=1)\n"
   ]
  },
  {
   "cell_type": "code",
   "execution_count": 383,
   "id": "8c831b50",
   "metadata": {},
   "outputs": [],
   "source": [
    "import tensorflow as tf"
   ]
  },
  {
   "cell_type": "code",
   "execution_count": 384,
   "id": "5a987e84",
   "metadata": {},
   "outputs": [
    {
     "data": {
      "text/plain": [
       "'2.3.0'"
      ]
     },
     "execution_count": 384,
     "metadata": {},
     "output_type": "execute_result"
    }
   ],
   "source": [
    "tf.__version__"
   ]
  },
  {
   "cell_type": "code",
   "execution_count": 385,
   "id": "3da36ed7",
   "metadata": {},
   "outputs": [
    {
     "name": "stdout",
     "output_type": "stream",
     "text": [
      "WARNING:tensorflow:Model was constructed with shape (None, 100, 1) for input Tensor(\"lstm_9_input:0\", shape=(None, 100, 1), dtype=float32), but it was called on an input with incompatible shape (None, 50, 1).\n"
     ]
    }
   ],
   "source": [
    "### Lets Do the prediction and check performance metrics\n",
    "train_predict=model.predict(X_train)\n",
    "test_predict=model.predict(X_test)"
   ]
  },
  {
   "cell_type": "code",
   "execution_count": 413,
   "id": "4666f7e1",
   "metadata": {},
   "outputs": [
    {
     "data": {
      "text/plain": [
       "array([[2964.0925 ],\n",
       "       [3023.3433 ],\n",
       "       [3081.3213 ],\n",
       "       [3136.152  ],\n",
       "       [3187.0686 ],\n",
       "       [3235.368  ],\n",
       "       [3276.7666 ],\n",
       "       [3310.716  ],\n",
       "       [3337.3545 ],\n",
       "       [3358.3018 ],\n",
       "       [3372.8586 ],\n",
       "       [3382.5034 ],\n",
       "       [3388.445  ],\n",
       "       [3393.0205 ],\n",
       "       [3396.8923 ],\n",
       "       [3400.4446 ],\n",
       "       [3404.8293 ],\n",
       "       [3409.4983 ],\n",
       "       [3412.367  ],\n",
       "       [3414.2363 ],\n",
       "       [3416.2346 ],\n",
       "       [3418.1191 ],\n",
       "       [3419.2156 ],\n",
       "       [3418.8794 ],\n",
       "       [3418.6296 ],\n",
       "       [3421.0723 ],\n",
       "       [3431.313  ],\n",
       "       [3447.2043 ],\n",
       "       [3465.2153 ],\n",
       "       [3472.7256 ],\n",
       "       [3435.4185 ],\n",
       "       [3348.1677 ],\n",
       "       [3217.8066 ],\n",
       "       [3050.6743 ],\n",
       "       [2856.4607 ],\n",
       "       [2645.3438 ],\n",
       "       [2408.2266 ],\n",
       "       [2144.5098 ],\n",
       "       [1859.9012 ],\n",
       "       [1576.6539 ],\n",
       "       [1307.1747 ],\n",
       "       [1066.6565 ],\n",
       "       [ 862.48737],\n",
       "       [ 699.9694 ],\n",
       "       [ 579.7787 ],\n",
       "       [ 500.63843],\n",
       "       [ 459.98544],\n",
       "       [ 454.4744 ],\n",
       "       [ 479.33557]], dtype=float32)"
      ]
     },
     "execution_count": 413,
     "metadata": {},
     "output_type": "execute_result"
    }
   ],
   "source": [
    "test_predict"
   ]
  },
  {
   "cell_type": "code",
   "execution_count": 386,
   "id": "13875274",
   "metadata": {},
   "outputs": [],
   "source": [
    "\n",
    "##Transformback to original form\n",
    "train_predict=scaler.inverse_transform(train_predict)\n",
    "test_predict=scaler.inverse_transform(test_predict)"
   ]
  },
  {
   "cell_type": "code",
   "execution_count": 387,
   "id": "0946313a",
   "metadata": {},
   "outputs": [
    {
     "data": {
      "text/plain": [
       "1551.8585828287335"
      ]
     },
     "execution_count": 387,
     "metadata": {},
     "output_type": "execute_result"
    }
   ],
   "source": [
    "### Calculate RMSE performance metrics\n",
    "import math\n",
    "from sklearn.metrics import mean_squared_error\n",
    "math.sqrt(mean_squared_error(y_train,train_predict))"
   ]
  },
  {
   "cell_type": "code",
   "execution_count": 388,
   "id": "cf8350fa",
   "metadata": {},
   "outputs": [
    {
     "data": {
      "text/plain": [
       "2908.692904319993"
      ]
     },
     "execution_count": 388,
     "metadata": {},
     "output_type": "execute_result"
    }
   ],
   "source": [
    "### Test Data RMSE\n",
    "math.sqrt(mean_squared_error(ytest,test_predict))"
   ]
  },
  {
   "cell_type": "code",
   "execution_count": 412,
   "id": "32f772be",
   "metadata": {},
   "outputs": [
    {
     "data": {
      "image/png": "[encoded data removed]",
      "text/plain": [
       "<Figure size 600x400 with 1 Axes>"
      ]
     },
     "metadata": {},
     "output_type": "display_data"
    }
   ],
   "source": [
    "\n",
    "### Plotting \n",
    "# shift train predictions for plotting\n",
    "look_back=100\n",
    "trainPredictPlot = numpy.empty_like(df1)\n",
    "trainPredictPlot[:, :] = np.nan\n",
    "trainPredictPlot[look_back:len(train_predict)+look_back, :] = train_predict\n",
    "# shift test predictions for plotting\n",
    "testPredictPlot = numpy.empty_like(df1)\n",
    "testPredictPlot[:, :] = numpy.nan\n",
    "testPredictPlot[len(train_predict)+(look_back)+1:len(df1)-1, :] = test_predict\n",
    "# plot baseline and predictions\n",
    "plt.plot(scaler.inverse_transform(df1))\n",
    "plt.plot(trainPredictPlot)\n",
    "plt.plot(testPredictPlot)\n",
    "plt.show()"
   ]
  },
  {
   "cell_type": "code",
   "execution_count": 392,
   "id": "0a889930",
   "metadata": {},
   "outputs": [
    {
     "data": {
      "text/plain": [
       "100"
      ]
     },
     "execution_count": 392,
     "metadata": {},
     "output_type": "execute_result"
    }
   ],
   "source": [
    "\n",
    "len(test_data)"
   ]
  },
  {
   "cell_type": "code",
   "execution_count": 393,
   "id": "8dbba194",
   "metadata": {},
   "outputs": [
    {
     "data": {
      "text/plain": [
       "(1, 100)"
      ]
     },
     "execution_count": 393,
     "metadata": {},
     "output_type": "execute_result"
    }
   ],
   "source": [
    "x_input=test_data[:].reshape(1,-1)\n",
    "x_input.shape"
   ]
  },
  {
   "cell_type": "code",
   "execution_count": 394,
   "id": "0acda295",
   "metadata": {},
   "outputs": [],
   "source": [
    "temp_input=list(x_input)\n",
    "temp_input=temp_input[0].tolist()"
   ]
  },
  {
   "cell_type": "code",
   "execution_count": 395,
   "id": "55ebd762",
   "metadata": {},
   "outputs": [
    {
     "data": {
      "text/plain": [
       "[0.5227272727272727,\n",
       " 0.5136363636363637,\n",
       " 0.5590909090909091,\n",
       " 0.5681818181818182,\n",
       " 0.5590909090909091,\n",
       " 0.5909090909090909,\n",
       " 0.5772727272727273,\n",
       " 0.5681818181818182,\n",
       " 0.6,\n",
       " 0.6136363636363636,\n",
       " 0.6136363636363636,\n",
       " 0.6318181818181817,\n",
       " 0.6181818181818183,\n",
       " 0.6363636363636364,\n",
       " 0.65,\n",
       " 0.6363636363636364,\n",
       " 0.6590909090909091,\n",
       " 0.65,\n",
       " 0.6954545454545454,\n",
       " 0.7045454545454545,\n",
       " 0.6818181818181818,\n",
       " 0.7045454545454545,\n",
       " 0.7500000000000001,\n",
       " 0.7409090909090909,\n",
       " 0.7363636363636364,\n",
       " 0.7272727272727272,\n",
       " 0.7409090909090909,\n",
       " 0.7500000000000001,\n",
       " 0.7409090909090909,\n",
       " 0.7500000000000001,\n",
       " 0.7545454545454545,\n",
       " 0.7590909090909091,\n",
       " 0.7613636363636364,\n",
       " 0.7568181818181817,\n",
       " 0.7272727272727272,\n",
       " 0.7363636363636364,\n",
       " 0.7500000000000001,\n",
       " 0.7545454545454545,\n",
       " 0.7500000000000001,\n",
       " 0.7500000000000001,\n",
       " 0.7454545454545455,\n",
       " 0.7409090909090909,\n",
       " 0.7500000000000001,\n",
       " 0.8318181818181819,\n",
       " 0.8409090909090909,\n",
       " 0.8772727272727273,\n",
       " 0.8181818181818182,\n",
       " 0.8636363636363636,\n",
       " 0.8727272727272727,\n",
       " 0.8772727272727273,\n",
       " 0.8818181818181817,\n",
       " 0.8772727272727273,\n",
       " 0.8863636363636364,\n",
       " 0.8954545454545454,\n",
       " 0.9181818181818181,\n",
       " 0.8863636363636364,\n",
       " 0.890909090909091,\n",
       " 0.8954545454545454,\n",
       " 0.9090909090909091,\n",
       " 0.8954545454545454,\n",
       " 0.9045454545454547,\n",
       " 0.9090909090909091,\n",
       " 0.9227272727272727,\n",
       " 0.9227272727272727,\n",
       " 0.9227272727272727,\n",
       " 0.9318181818181818,\n",
       " 0.9272727272727274,\n",
       " 0.9090909090909091,\n",
       " 0.9227272727272727,\n",
       " 0.9318181818181818,\n",
       " 0.9272727272727274,\n",
       " 0.9227272727272727,\n",
       " 0.9181818181818181,\n",
       " 0.9318181818181818,\n",
       " 0.9545454545454545,\n",
       " 1.0,\n",
       " 0.9772727272727272,\n",
       " 0.9545454545454545,\n",
       " 0.85,\n",
       " 0.5454545454545454,\n",
       " 0.5227272727272727,\n",
       " 0.5454545454545454,\n",
       " 0.5136363636363637,\n",
       " 0.5,\n",
       " 0.48636363636363633,\n",
       " 0.2727272727272727,\n",
       " 0.1636363636363637,\n",
       " 0.09090909090909094,\n",
       " 0.18181818181818188,\n",
       " 0.11363636363636365,\n",
       " 0.11818181818181817,\n",
       " 0.05909090909090908,\n",
       " 0.05909090909090908,\n",
       " 0.05681818181818182,\n",
       " 0.06363636363636366,\n",
       " 0.05909090909090908,\n",
       " 0.04545454545454547,\n",
       " 0.04545454545454547,\n",
       " 0.040909090909090895,\n",
       " 0.04999999999999999]"
      ]
     },
     "execution_count": 395,
     "metadata": {},
     "output_type": "execute_result"
    }
   ],
   "source": [
    "temp_input"
   ]
  },
  {
   "cell_type": "code",
   "execution_count": 396,
   "id": "fda80844",
   "metadata": {},
   "outputs": [
    {
     "name": "stdout",
     "output_type": "stream",
     "text": [
      "[-0.11330727]\n",
      "101\n",
      "1 day input [ 0.51363636  0.55909091  0.56818182  0.55909091  0.59090909  0.57727273\n",
      "  0.56818182  0.6         0.61363636  0.61363636  0.63181818  0.61818182\n",
      "  0.63636364  0.65        0.63636364  0.65909091  0.65        0.69545455\n",
      "  0.70454545  0.68181818  0.70454545  0.75        0.74090909  0.73636364\n",
      "  0.72727273  0.74090909  0.75        0.74090909  0.75        0.75454545\n",
      "  0.75909091  0.76136364  0.75681818  0.72727273  0.73636364  0.75\n",
      "  0.75454545  0.75        0.75        0.74545455  0.74090909  0.75\n",
      "  0.83181818  0.84090909  0.87727273  0.81818182  0.86363636  0.87272727\n",
      "  0.87727273  0.88181818  0.87727273  0.88636364  0.89545455  0.91818182\n",
      "  0.88636364  0.89090909  0.89545455  0.90909091  0.89545455  0.90454545\n",
      "  0.90909091  0.92272727  0.92272727  0.92272727  0.93181818  0.92727273\n",
      "  0.90909091  0.92272727  0.93181818  0.92727273  0.92272727  0.91818182\n",
      "  0.93181818  0.95454545  1.          0.97727273  0.95454545  0.85\n",
      "  0.54545455  0.52272727  0.54545455  0.51363636  0.5         0.48636364\n",
      "  0.27272727  0.16363636  0.09090909  0.18181818  0.11363636  0.11818182\n",
      "  0.05909091  0.05909091  0.05681818  0.06363636  0.05909091  0.04545455\n",
      "  0.04545455  0.04090909  0.05       -0.11330727]\n",
      "1 day output [[-0.0819793]]\n",
      "2 day input [ 0.55909091  0.56818182  0.55909091  0.59090909  0.57727273  0.56818182\n",
      "  0.6         0.61363636  0.61363636  0.63181818  0.61818182  0.63636364\n",
      "  0.65        0.63636364  0.65909091  0.65        0.69545455  0.70454545\n",
      "  0.68181818  0.70454545  0.75        0.74090909  0.73636364  0.72727273\n",
      "  0.74090909  0.75        0.74090909  0.75        0.75454545  0.75909091\n",
      "  0.76136364  0.75681818  0.72727273  0.73636364  0.75        0.75454545\n",
      "  0.75        0.75        0.74545455  0.74090909  0.75        0.83181818\n",
      "  0.84090909  0.87727273  0.81818182  0.86363636  0.87272727  0.87727273\n",
      "  0.88181818  0.87727273  0.88636364  0.89545455  0.91818182  0.88636364\n",
      "  0.89090909  0.89545455  0.90909091  0.89545455  0.90454545  0.90909091\n",
      "  0.92272727  0.92272727  0.92272727  0.93181818  0.92727273  0.90909091\n",
      "  0.92272727  0.93181818  0.92727273  0.92272727  0.91818182  0.93181818\n",
      "  0.95454545  1.          0.97727273  0.95454545  0.85        0.54545455\n",
      "  0.52272727  0.54545455  0.51363636  0.5         0.48636364  0.27272727\n",
      "  0.16363636  0.09090909  0.18181818  0.11363636  0.11818182  0.05909091\n",
      "  0.05909091  0.05681818  0.06363636  0.05909091  0.04545455  0.04545455\n",
      "  0.04090909  0.05       -0.11330727 -0.0819793 ]\n",
      "2 day output [[-0.05230899]]\n",
      "3 day input [ 0.56818182  0.55909091  0.59090909  0.57727273  0.56818182  0.6\n",
      "  0.61363636  0.61363636  0.63181818  0.61818182  0.63636364  0.65\n",
      "  0.63636364  0.65909091  0.65        0.69545455  0.70454545  0.68181818\n",
      "  0.70454545  0.75        0.74090909  0.73636364  0.72727273  0.74090909\n",
      "  0.75        0.74090909  0.75        0.75454545  0.75909091  0.76136364\n",
      "  0.75681818  0.72727273  0.73636364  0.75        0.75454545  0.75\n",
      "  0.75        0.74545455  0.74090909  0.75        0.83181818  0.84090909\n",
      "  0.87727273  0.81818182  0.86363636  0.87272727  0.87727273  0.88181818\n",
      "  0.87727273  0.88636364  0.89545455  0.91818182  0.88636364  0.89090909\n",
      "  0.89545455  0.90909091  0.89545455  0.90454545  0.90909091  0.92272727\n",
      "  0.92272727  0.92272727  0.93181818  0.92727273  0.90909091  0.92272727\n",
      "  0.93181818  0.92727273  0.92272727  0.91818182  0.93181818  0.95454545\n",
      "  1.          0.97727273  0.95454545  0.85        0.54545455  0.52272727\n",
      "  0.54545455  0.51363636  0.5         0.48636364  0.27272727  0.16363636\n",
      "  0.09090909  0.18181818  0.11363636  0.11818182  0.05909091  0.05909091\n",
      "  0.05681818  0.06363636  0.05909091  0.04545455  0.04545455  0.04090909\n",
      "  0.05       -0.11330727 -0.0819793  -0.05230899]\n",
      "3 day output [[-0.02536377]]\n",
      "4 day input [ 0.55909091  0.59090909  0.57727273  0.56818182  0.6         0.61363636\n",
      "  0.61363636  0.63181818  0.61818182  0.63636364  0.65        0.63636364\n",
      "  0.65909091  0.65        0.69545455  0.70454545  0.68181818  0.70454545\n",
      "  0.75        0.74090909  0.73636364  0.72727273  0.74090909  0.75\n",
      "  0.74090909  0.75        0.75454545  0.75909091  0.76136364  0.75681818\n",
      "  0.72727273  0.73636364  0.75        0.75454545  0.75        0.75\n",
      "  0.74545455  0.74090909  0.75        0.83181818  0.84090909  0.87727273\n",
      "  0.81818182  0.86363636  0.87272727  0.87727273  0.88181818  0.87727273\n",
      "  0.88636364  0.89545455  0.91818182  0.88636364  0.89090909  0.89545455\n",
      "  0.90909091  0.89545455  0.90454545  0.90909091  0.92272727  0.92272727\n",
      "  0.92272727  0.93181818  0.92727273  0.90909091  0.92272727  0.93181818\n",
      "  0.92727273  0.92272727  0.91818182  0.93181818  0.95454545  1.\n",
      "  0.97727273  0.95454545  0.85        0.54545455  0.52272727  0.54545455\n",
      "  0.51363636  0.5         0.48636364  0.27272727  0.16363636  0.09090909\n",
      "  0.18181818  0.11363636  0.11818182  0.05909091  0.05909091  0.05681818\n",
      "  0.06363636  0.05909091  0.04545455  0.04545455  0.04090909  0.05\n",
      " -0.11330727 -0.0819793  -0.05230899 -0.02536377]\n",
      "4 day output [[-0.00107086]]\n",
      "5 day input [ 0.59090909  0.57727273  0.56818182  0.6         0.61363636  0.61363636\n",
      "  0.63181818  0.61818182  0.63636364  0.65        0.63636364  0.65909091\n",
      "  0.65        0.69545455  0.70454545  0.68181818  0.70454545  0.75\n",
      "  0.74090909  0.73636364  0.72727273  0.74090909  0.75        0.74090909\n",
      "  0.75        0.75454545  0.75909091  0.76136364  0.75681818  0.72727273\n",
      "  0.73636364  0.75        0.75454545  0.75        0.75        0.74545455\n",
      "  0.74090909  0.75        0.83181818  0.84090909  0.87727273  0.81818182\n",
      "  0.86363636  0.87272727  0.87727273  0.88181818  0.87727273  0.88636364\n",
      "  0.89545455  0.91818182  0.88636364  0.89090909  0.89545455  0.90909091\n",
      "  0.89545455  0.90454545  0.90909091  0.92272727  0.92272727  0.92272727\n",
      "  0.93181818  0.92727273  0.90909091  0.92272727  0.93181818  0.92727273\n",
      "  0.92272727  0.91818182  0.93181818  0.95454545  1.          0.97727273\n",
      "  0.95454545  0.85        0.54545455  0.52272727  0.54545455  0.51363636\n",
      "  0.5         0.48636364  0.27272727  0.16363636  0.09090909  0.18181818\n",
      "  0.11363636  0.11818182  0.05909091  0.05909091  0.05681818  0.06363636\n",
      "  0.05909091  0.04545455  0.04545455  0.04090909  0.05       -0.11330727\n",
      " -0.0819793  -0.05230899 -0.02536377 -0.00107086]\n",
      "5 day output [[0.02115069]]\n",
      "6 day input [ 0.57727273  0.56818182  0.6         0.61363636  0.61363636  0.63181818\n",
      "  0.61818182  0.63636364  0.65        0.63636364  0.65909091  0.65\n",
      "  0.69545455  0.70454545  0.68181818  0.70454545  0.75        0.74090909\n",
      "  0.73636364  0.72727273  0.74090909  0.75        0.74090909  0.75\n",
      "  0.75454545  0.75909091  0.76136364  0.75681818  0.72727273  0.73636364\n",
      "  0.75        0.75454545  0.75        0.75        0.74545455  0.74090909\n",
      "  0.75        0.83181818  0.84090909  0.87727273  0.81818182  0.86363636\n",
      "  0.87272727  0.87727273  0.88181818  0.87727273  0.88636364  0.89545455\n",
      "  0.91818182  0.88636364  0.89090909  0.89545455  0.90909091  0.89545455\n",
      "  0.90454545  0.90909091  0.92272727  0.92272727  0.92272727  0.93181818\n",
      "  0.92727273  0.90909091  0.92272727  0.93181818  0.92727273  0.92272727\n",
      "  0.91818182  0.93181818  0.95454545  1.          0.97727273  0.95454545\n",
      "  0.85        0.54545455  0.52272727  0.54545455  0.51363636  0.5\n",
      "  0.48636364  0.27272727  0.16363636  0.09090909  0.18181818  0.11363636\n",
      "  0.11818182  0.05909091  0.05909091  0.05681818  0.06363636  0.05909091\n",
      "  0.04545455  0.04545455  0.04090909  0.05       -0.11330727 -0.0819793\n",
      " -0.05230899 -0.02536377 -0.00107086  0.02115069]\n",
      "6 day output [[0.04200153]]\n",
      "7 day input [ 0.56818182  0.6         0.61363636  0.61363636  0.63181818  0.61818182\n",
      "  0.63636364  0.65        0.63636364  0.65909091  0.65        0.69545455\n",
      "  0.70454545  0.68181818  0.70454545  0.75        0.74090909  0.73636364\n",
      "  0.72727273  0.74090909  0.75        0.74090909  0.75        0.75454545\n",
      "  0.75909091  0.76136364  0.75681818  0.72727273  0.73636364  0.75\n",
      "  0.75454545  0.75        0.75        0.74545455  0.74090909  0.75\n",
      "  0.83181818  0.84090909  0.87727273  0.81818182  0.86363636  0.87272727\n",
      "  0.87727273  0.88181818  0.87727273  0.88636364  0.89545455  0.91818182\n",
      "  0.88636364  0.89090909  0.89545455  0.90909091  0.89545455  0.90454545\n",
      "  0.90909091  0.92272727  0.92272727  0.92272727  0.93181818  0.92727273\n",
      "  0.90909091  0.92272727  0.93181818  0.92727273  0.92272727  0.91818182\n",
      "  0.93181818  0.95454545  1.          0.97727273  0.95454545  0.85\n",
      "  0.54545455  0.52272727  0.54545455  0.51363636  0.5         0.48636364\n",
      "  0.27272727  0.16363636  0.09090909  0.18181818  0.11363636  0.11818182\n",
      "  0.05909091  0.05909091  0.05681818  0.06363636  0.05909091  0.04545455\n",
      "  0.04545455  0.04090909  0.05       -0.11330727 -0.0819793  -0.05230899\n",
      " -0.02536377 -0.00107086  0.02115069  0.04200153]\n",
      "7 day output [[0.06209609]]\n",
      "8 day input [ 0.6         0.61363636  0.61363636  0.63181818  0.61818182  0.63636364\n",
      "  0.65        0.63636364  0.65909091  0.65        0.69545455  0.70454545\n",
      "  0.68181818  0.70454545  0.75        0.74090909  0.73636364  0.72727273\n",
      "  0.74090909  0.75        0.74090909  0.75        0.75454545  0.75909091\n",
      "  0.76136364  0.75681818  0.72727273  0.73636364  0.75        0.75454545\n",
      "  0.75        0.75        0.74545455  0.74090909  0.75        0.83181818\n",
      "  0.84090909  0.87727273  0.81818182  0.86363636  0.87272727  0.87727273\n",
      "  0.88181818  0.87727273  0.88636364  0.89545455  0.91818182  0.88636364\n",
      "  0.89090909  0.89545455  0.90909091  0.89545455  0.90454545  0.90909091\n",
      "  0.92272727  0.92272727  0.92272727  0.93181818  0.92727273  0.90909091\n",
      "  0.92272727  0.93181818  0.92727273  0.92272727  0.91818182  0.93181818\n",
      "  0.95454545  1.          0.97727273  0.95454545  0.85        0.54545455\n",
      "  0.52272727  0.54545455  0.51363636  0.5         0.48636364  0.27272727\n",
      "  0.16363636  0.09090909  0.18181818  0.11363636  0.11818182  0.05909091\n",
      "  0.05909091  0.05681818  0.06363636  0.05909091  0.04545455  0.04545455\n",
      "  0.04090909  0.05       -0.11330727 -0.0819793  -0.05230899 -0.02536377\n",
      " -0.00107086  0.02115069  0.04200153  0.06209609]\n",
      "8 day output [[0.08187758]]\n",
      "9 day input [ 0.61363636  0.61363636  0.63181818  0.61818182  0.63636364  0.65\n",
      "  0.63636364  0.65909091  0.65        0.69545455  0.70454545  0.68181818\n",
      "  0.70454545  0.75        0.74090909  0.73636364  0.72727273  0.74090909\n",
      "  0.75        0.74090909  0.75        0.75454545  0.75909091  0.76136364\n",
      "  0.75681818  0.72727273  0.73636364  0.75        0.75454545  0.75\n",
      "  0.75        0.74545455  0.74090909  0.75        0.83181818  0.84090909\n",
      "  0.87727273  0.81818182  0.86363636  0.87272727  0.87727273  0.88181818\n",
      "  0.87727273  0.88636364  0.89545455  0.91818182  0.88636364  0.89090909\n",
      "  0.89545455  0.90909091  0.89545455  0.90454545  0.90909091  0.92272727\n",
      "  0.92272727  0.92272727  0.93181818  0.92727273  0.90909091  0.92272727\n",
      "  0.93181818  0.92727273  0.92272727  0.91818182  0.93181818  0.95454545\n",
      "  1.          0.97727273  0.95454545  0.85        0.54545455  0.52272727\n",
      "  0.54545455  0.51363636  0.5         0.48636364  0.27272727  0.16363636\n",
      "  0.09090909  0.18181818  0.11363636  0.11818182  0.05909091  0.05909091\n",
      "  0.05681818  0.06363636  0.05909091  0.04545455  0.04545455  0.04090909\n",
      "  0.05       -0.11330727 -0.0819793  -0.05230899 -0.02536377 -0.00107086\n",
      "  0.02115069  0.04200153  0.06209609  0.08187758]\n",
      "9 day output [[0.10160523]]\n",
      "10 day input [ 0.61363636  0.63181818  0.61818182  0.63636364  0.65        0.63636364\n",
      "  0.65909091  0.65        0.69545455  0.70454545  0.68181818  0.70454545\n",
      "  0.75        0.74090909  0.73636364  0.72727273  0.74090909  0.75\n",
      "  0.74090909  0.75        0.75454545  0.75909091  0.76136364  0.75681818\n",
      "  0.72727273  0.73636364  0.75        0.75454545  0.75        0.75\n",
      "  0.74545455  0.74090909  0.75        0.83181818  0.84090909  0.87727273\n",
      "  0.81818182  0.86363636  0.87272727  0.87727273  0.88181818  0.87727273\n",
      "  0.88636364  0.89545455  0.91818182  0.88636364  0.89090909  0.89545455\n",
      "  0.90909091  0.89545455  0.90454545  0.90909091  0.92272727  0.92272727\n",
      "  0.92272727  0.93181818  0.92727273  0.90909091  0.92272727  0.93181818\n",
      "  0.92727273  0.92272727  0.91818182  0.93181818  0.95454545  1.\n",
      "  0.97727273  0.95454545  0.85        0.54545455  0.52272727  0.54545455\n",
      "  0.51363636  0.5         0.48636364  0.27272727  0.16363636  0.09090909\n",
      "  0.18181818  0.11363636  0.11818182  0.05909091  0.05909091  0.05681818\n",
      "  0.06363636  0.05909091  0.04545455  0.04545455  0.04090909  0.05\n",
      " -0.11330727 -0.0819793  -0.05230899 -0.02536377 -0.00107086  0.02115069\n",
      "  0.04200153  0.06209609  0.08187758  0.10160523]\n",
      "10 day output [[0.12137882]]\n",
      "11 day input [ 0.63181818  0.61818182  0.63636364  0.65        0.63636364  0.65909091\n",
      "  0.65        0.69545455  0.70454545  0.68181818  0.70454545  0.75\n",
      "  0.74090909  0.73636364  0.72727273  0.74090909  0.75        0.74090909\n",
      "  0.75        0.75454545  0.75909091  0.76136364  0.75681818  0.72727273\n",
      "  0.73636364  0.75        0.75454545  0.75        0.75        0.74545455\n",
      "  0.74090909  0.75        0.83181818  0.84090909  0.87727273  0.81818182\n",
      "  0.86363636  0.87272727  0.87727273  0.88181818  0.87727273  0.88636364\n",
      "  0.89545455  0.91818182  0.88636364  0.89090909  0.89545455  0.90909091\n",
      "  0.89545455  0.90454545  0.90909091  0.92272727  0.92272727  0.92272727\n",
      "  0.93181818  0.92727273  0.90909091  0.92272727  0.93181818  0.92727273\n",
      "  0.92272727  0.91818182  0.93181818  0.95454545  1.          0.97727273\n",
      "  0.95454545  0.85        0.54545455  0.52272727  0.54545455  0.51363636\n",
      "  0.5         0.48636364  0.27272727  0.16363636  0.09090909  0.18181818\n",
      "  0.11363636  0.11818182  0.05909091  0.05909091  0.05681818  0.06363636\n",
      "  0.05909091  0.04545455  0.04545455  0.04090909  0.05       -0.11330727\n",
      " -0.0819793  -0.05230899 -0.02536377 -0.00107086  0.02115069  0.04200153\n",
      "  0.06209609  0.08187758  0.10160523  0.12137882]\n",
      "11 day output [[0.14117801]]\n",
      "12 day input [ 0.61818182  0.63636364  0.65        0.63636364  0.65909091  0.65\n",
      "  0.69545455  0.70454545  0.68181818  0.70454545  0.75        0.74090909\n",
      "  0.73636364  0.72727273  0.74090909  0.75        0.74090909  0.75\n",
      "  0.75454545  0.75909091  0.76136364  0.75681818  0.72727273  0.73636364\n",
      "  0.75        0.75454545  0.75        0.75        0.74545455  0.74090909\n",
      "  0.75        0.83181818  0.84090909  0.87727273  0.81818182  0.86363636\n",
      "  0.87272727  0.87727273  0.88181818  0.87727273  0.88636364  0.89545455\n",
      "  0.91818182  0.88636364  0.89090909  0.89545455  0.90909091  0.89545455\n",
      "  0.90454545  0.90909091  0.92272727  0.92272727  0.92272727  0.93181818\n",
      "  0.92727273  0.90909091  0.92272727  0.93181818  0.92727273  0.92272727\n",
      "  0.91818182  0.93181818  0.95454545  1.          0.97727273  0.95454545\n",
      "  0.85        0.54545455  0.52272727  0.54545455  0.51363636  0.5\n",
      "  0.48636364  0.27272727  0.16363636  0.09090909  0.18181818  0.11363636\n",
      "  0.11818182  0.05909091  0.05909091  0.05681818  0.06363636  0.05909091\n",
      "  0.04545455  0.04545455  0.04090909  0.05       -0.11330727 -0.0819793\n",
      " -0.05230899 -0.02536377 -0.00107086  0.02115069  0.04200153  0.06209609\n",
      "  0.08187758  0.10160523  0.12137882  0.14117801]\n",
      "12 day output [[0.16090335]]\n",
      "13 day input [ 0.63636364  0.65        0.63636364  0.65909091  0.65        0.69545455\n",
      "  0.70454545  0.68181818  0.70454545  0.75        0.74090909  0.73636364\n",
      "  0.72727273  0.74090909  0.75        0.74090909  0.75        0.75454545\n",
      "  0.75909091  0.76136364  0.75681818  0.72727273  0.73636364  0.75\n",
      "  0.75454545  0.75        0.75        0.74545455  0.74090909  0.75\n",
      "  0.83181818  0.84090909  0.87727273  0.81818182  0.86363636  0.87272727\n",
      "  0.87727273  0.88181818  0.87727273  0.88636364  0.89545455  0.91818182\n",
      "  0.88636364  0.89090909  0.89545455  0.90909091  0.89545455  0.90454545\n",
      "  0.90909091  0.92272727  0.92272727  0.92272727  0.93181818  0.92727273\n",
      "  0.90909091  0.92272727  0.93181818  0.92727273  0.92272727  0.91818182\n",
      "  0.93181818  0.95454545  1.          0.97727273  0.95454545  0.85\n",
      "  0.54545455  0.52272727  0.54545455  0.51363636  0.5         0.48636364\n",
      "  0.27272727  0.16363636  0.09090909  0.18181818  0.11363636  0.11818182\n",
      "  0.05909091  0.05909091  0.05681818  0.06363636  0.05909091  0.04545455\n",
      "  0.04545455  0.04090909  0.05       -0.11330727 -0.0819793  -0.05230899\n",
      " -0.02536377 -0.00107086  0.02115069  0.04200153  0.06209609  0.08187758\n",
      "  0.10160523  0.12137882  0.14117801  0.16090335]\n",
      "13 day output [[0.1804124]]\n",
      "14 day input [ 0.65        0.63636364  0.65909091  0.65        0.69545455  0.70454545\n",
      "  0.68181818  0.70454545  0.75        0.74090909  0.73636364  0.72727273\n",
      "  0.74090909  0.75        0.74090909  0.75        0.75454545  0.75909091\n",
      "  0.76136364  0.75681818  0.72727273  0.73636364  0.75        0.75454545\n",
      "  0.75        0.75        0.74545455  0.74090909  0.75        0.83181818\n",
      "  0.84090909  0.87727273  0.81818182  0.86363636  0.87272727  0.87727273\n",
      "  0.88181818  0.87727273  0.88636364  0.89545455  0.91818182  0.88636364\n",
      "  0.89090909  0.89545455  0.90909091  0.89545455  0.90454545  0.90909091\n",
      "  0.92272727  0.92272727  0.92272727  0.93181818  0.92727273  0.90909091\n",
      "  0.92272727  0.93181818  0.92727273  0.92272727  0.91818182  0.93181818\n",
      "  0.95454545  1.          0.97727273  0.95454545  0.85        0.54545455\n",
      "  0.52272727  0.54545455  0.51363636  0.5         0.48636364  0.27272727\n",
      "  0.16363636  0.09090909  0.18181818  0.11363636  0.11818182  0.05909091\n",
      "  0.05909091  0.05681818  0.06363636  0.05909091  0.04545455  0.04545455\n",
      "  0.04090909  0.05       -0.11330727 -0.0819793  -0.05230899 -0.02536377\n",
      " -0.00107086  0.02115069  0.04200153  0.06209609  0.08187758  0.10160523\n",
      "  0.12137882  0.14117801  0.16090335  0.1804124 ]\n",
      "14 day output [[0.19954814]]\n",
      "15 day input [ 0.63636364  0.65909091  0.65        0.69545455  0.70454545  0.68181818\n",
      "  0.70454545  0.75        0.74090909  0.73636364  0.72727273  0.74090909\n",
      "  0.75        0.74090909  0.75        0.75454545  0.75909091  0.76136364\n",
      "  0.75681818  0.72727273  0.73636364  0.75        0.75454545  0.75\n",
      "  0.75        0.74545455  0.74090909  0.75        0.83181818  0.84090909\n",
      "  0.87727273  0.81818182  0.86363636  0.87272727  0.87727273  0.88181818\n",
      "  0.87727273  0.88636364  0.89545455  0.91818182  0.88636364  0.89090909\n",
      "  0.89545455  0.90909091  0.89545455  0.90454545  0.90909091  0.92272727\n",
      "  0.92272727  0.92272727  0.93181818  0.92727273  0.90909091  0.92272727\n",
      "  0.93181818  0.92727273  0.92272727  0.91818182  0.93181818  0.95454545\n",
      "  1.          0.97727273  0.95454545  0.85        0.54545455  0.52272727\n",
      "  0.54545455  0.51363636  0.5         0.48636364  0.27272727  0.16363636\n",
      "  0.09090909  0.18181818  0.11363636  0.11818182  0.05909091  0.05909091\n",
      "  0.05681818  0.06363636  0.05909091  0.04545455  0.04545455  0.04090909\n",
      "  0.05       -0.11330727 -0.0819793  -0.05230899 -0.02536377 -0.00107086\n",
      "  0.02115069  0.04200153  0.06209609  0.08187758  0.10160523  0.12137882\n",
      "  0.14117801  0.16090335  0.1804124   0.19954814]\n",
      "15 day output [[0.2181586]]\n",
      "16 day input [ 0.65909091  0.65        0.69545455  0.70454545  0.68181818  0.70454545\n",
      "  0.75        0.74090909  0.73636364  0.72727273  0.74090909  0.75\n",
      "  0.74090909  0.75        0.75454545  0.75909091  0.76136364  0.75681818\n",
      "  0.72727273  0.73636364  0.75        0.75454545  0.75        0.75\n",
      "  0.74545455  0.74090909  0.75        0.83181818  0.84090909  0.87727273\n",
      "  0.81818182  0.86363636  0.87272727  0.87727273  0.88181818  0.87727273\n",
      "  0.88636364  0.89545455  0.91818182  0.88636364  0.89090909  0.89545455\n",
      "  0.90909091  0.89545455  0.90454545  0.90909091  0.92272727  0.92272727\n",
      "  0.92272727  0.93181818  0.92727273  0.90909091  0.92272727  0.93181818\n",
      "  0.92727273  0.92272727  0.91818182  0.93181818  0.95454545  1.\n",
      "  0.97727273  0.95454545  0.85        0.54545455  0.52272727  0.54545455\n",
      "  0.51363636  0.5         0.48636364  0.27272727  0.16363636  0.09090909\n",
      "  0.18181818  0.11363636  0.11818182  0.05909091  0.05909091  0.05681818\n",
      "  0.06363636  0.05909091  0.04545455  0.04545455  0.04090909  0.05\n",
      " -0.11330727 -0.0819793  -0.05230899 -0.02536377 -0.00107086  0.02115069\n",
      "  0.04200153  0.06209609  0.08187758  0.10160523  0.12137882  0.14117801\n",
      "  0.16090335  0.1804124   0.19954814  0.2181586 ]\n",
      "16 day output [[0.23610964]]\n",
      "17 day input [ 0.65        0.69545455  0.70454545  0.68181818  0.70454545  0.75\n",
      "  0.74090909  0.73636364  0.72727273  0.74090909  0.75        0.74090909\n",
      "  0.75        0.75454545  0.75909091  0.76136364  0.75681818  0.72727273\n",
      "  0.73636364  0.75        0.75454545  0.75        0.75        0.74545455\n",
      "  0.74090909  0.75        0.83181818  0.84090909  0.87727273  0.81818182\n",
      "  0.86363636  0.87272727  0.87727273  0.88181818  0.87727273  0.88636364\n",
      "  0.89545455  0.91818182  0.88636364  0.89090909  0.89545455  0.90909091\n",
      "  0.89545455  0.90454545  0.90909091  0.92272727  0.92272727  0.92272727\n",
      "  0.93181818  0.92727273  0.90909091  0.92272727  0.93181818  0.92727273\n",
      "  0.92272727  0.91818182  0.93181818  0.95454545  1.          0.97727273\n",
      "  0.95454545  0.85        0.54545455  0.52272727  0.54545455  0.51363636\n",
      "  0.5         0.48636364  0.27272727  0.16363636  0.09090909  0.18181818\n",
      "  0.11363636  0.11818182  0.05909091  0.05909091  0.05681818  0.06363636\n",
      "  0.05909091  0.04545455  0.04545455  0.04090909  0.05       -0.11330727\n",
      " -0.0819793  -0.05230899 -0.02536377 -0.00107086  0.02115069  0.04200153\n",
      "  0.06209609  0.08187758  0.10160523  0.12137882  0.14117801  0.16090335\n",
      "  0.1804124   0.19954814  0.2181586   0.23610964]\n",
      "17 day output [[0.25329137]]\n",
      "18 day input [ 0.69545455  0.70454545  0.68181818  0.70454545  0.75        0.74090909\n",
      "  0.73636364  0.72727273  0.74090909  0.75        0.74090909  0.75\n",
      "  0.75454545  0.75909091  0.76136364  0.75681818  0.72727273  0.73636364\n",
      "  0.75        0.75454545  0.75        0.75        0.74545455  0.74090909\n",
      "  0.75        0.83181818  0.84090909  0.87727273  0.81818182  0.86363636\n",
      "  0.87272727  0.87727273  0.88181818  0.87727273  0.88636364  0.89545455\n",
      "  0.91818182  0.88636364  0.89090909  0.89545455  0.90909091  0.89545455\n",
      "  0.90454545  0.90909091  0.92272727  0.92272727  0.92272727  0.93181818\n",
      "  0.92727273  0.90909091  0.92272727  0.93181818  0.92727273  0.92272727\n",
      "  0.91818182  0.93181818  0.95454545  1.          0.97727273  0.95454545\n",
      "  0.85        0.54545455  0.52272727  0.54545455  0.51363636  0.5\n",
      "  0.48636364  0.27272727  0.16363636  0.09090909  0.18181818  0.11363636\n",
      "  0.11818182  0.05909091  0.05909091  0.05681818  0.06363636  0.05909091\n",
      "  0.04545455  0.04545455  0.04090909  0.05       -0.11330727 -0.0819793\n",
      " -0.05230899 -0.02536377 -0.00107086  0.02115069  0.04200153  0.06209609\n",
      "  0.08187758  0.10160523  0.12137882  0.14117801  0.16090335  0.1804124\n",
      "  0.19954814  0.2181586   0.23610964  0.25329137]\n",
      "18 day output [[0.26962048]]\n",
      "19 day input [ 0.70454545  0.68181818  0.70454545  0.75        0.74090909  0.73636364\n",
      "  0.72727273  0.74090909  0.75        0.74090909  0.75        0.75454545\n",
      "  0.75909091  0.76136364  0.75681818  0.72727273  0.73636364  0.75\n",
      "  0.75454545  0.75        0.75        0.74545455  0.74090909  0.75\n",
      "  0.83181818  0.84090909  0.87727273  0.81818182  0.86363636  0.87272727\n",
      "  0.87727273  0.88181818  0.87727273  0.88636364  0.89545455  0.91818182\n",
      "  0.88636364  0.89090909  0.89545455  0.90909091  0.89545455  0.90454545\n",
      "  0.90909091  0.92272727  0.92272727  0.92272727  0.93181818  0.92727273\n",
      "  0.90909091  0.92272727  0.93181818  0.92727273  0.92272727  0.91818182\n",
      "  0.93181818  0.95454545  1.          0.97727273  0.95454545  0.85\n",
      "  0.54545455  0.52272727  0.54545455  0.51363636  0.5         0.48636364\n",
      "  0.27272727  0.16363636  0.09090909  0.18181818  0.11363636  0.11818182\n",
      "  0.05909091  0.05909091  0.05681818  0.06363636  0.05909091  0.04545455\n",
      "  0.04545455  0.04090909  0.05       -0.11330727 -0.0819793  -0.05230899\n",
      " -0.02536377 -0.00107086  0.02115069  0.04200153  0.06209609  0.08187758\n",
      "  0.10160523  0.12137882  0.14117801  0.16090335  0.1804124   0.19954814\n",
      "  0.2181586   0.23610964  0.25329137  0.26962048]\n",
      "19 day output [[0.28503892]]\n",
      "20 day input [ 0.68181818  0.70454545  0.75        0.74090909  0.73636364  0.72727273\n",
      "  0.74090909  0.75        0.74090909  0.75        0.75454545  0.75909091\n",
      "  0.76136364  0.75681818  0.72727273  0.73636364  0.75        0.75454545\n",
      "  0.75        0.75        0.74545455  0.74090909  0.75        0.83181818\n",
      "  0.84090909  0.87727273  0.81818182  0.86363636  0.87272727  0.87727273\n",
      "  0.88181818  0.87727273  0.88636364  0.89545455  0.91818182  0.88636364\n",
      "  0.89090909  0.89545455  0.90909091  0.89545455  0.90454545  0.90909091\n",
      "  0.92272727  0.92272727  0.92272727  0.93181818  0.92727273  0.90909091\n",
      "  0.92272727  0.93181818  0.92727273  0.92272727  0.91818182  0.93181818\n",
      "  0.95454545  1.          0.97727273  0.95454545  0.85        0.54545455\n",
      "  0.52272727  0.54545455  0.51363636  0.5         0.48636364  0.27272727\n",
      "  0.16363636  0.09090909  0.18181818  0.11363636  0.11818182  0.05909091\n",
      "  0.05909091  0.05681818  0.06363636  0.05909091  0.04545455  0.04545455\n",
      "  0.04090909  0.05       -0.11330727 -0.0819793  -0.05230899 -0.02536377\n",
      " -0.00107086  0.02115069  0.04200153  0.06209609  0.08187758  0.10160523\n",
      "  0.12137882  0.14117801  0.16090335  0.1804124   0.19954814  0.2181586\n",
      "  0.23610964  0.25329137  0.26962048  0.28503892]\n",
      "20 day output [[0.29951206]]\n",
      "21 day input [ 0.70454545  0.75        0.74090909  0.73636364  0.72727273  0.74090909\n",
      "  0.75        0.74090909  0.75        0.75454545  0.75909091  0.76136364\n",
      "  0.75681818  0.72727273  0.73636364  0.75        0.75454545  0.75\n",
      "  0.75        0.74545455  0.74090909  0.75        0.83181818  0.84090909\n",
      "  0.87727273  0.81818182  0.86363636  0.87272727  0.87727273  0.88181818\n",
      "  0.87727273  0.88636364  0.89545455  0.91818182  0.88636364  0.89090909\n",
      "  0.89545455  0.90909091  0.89545455  0.90454545  0.90909091  0.92272727\n",
      "  0.92272727  0.92272727  0.93181818  0.92727273  0.90909091  0.92272727\n",
      "  0.93181818  0.92727273  0.92272727  0.91818182  0.93181818  0.95454545\n",
      "  1.          0.97727273  0.95454545  0.85        0.54545455  0.52272727\n",
      "  0.54545455  0.51363636  0.5         0.48636364  0.27272727  0.16363636\n",
      "  0.09090909  0.18181818  0.11363636  0.11818182  0.05909091  0.05909091\n",
      "  0.05681818  0.06363636  0.05909091  0.04545455  0.04545455  0.04090909\n",
      "  0.05       -0.11330727 -0.0819793  -0.05230899 -0.02536377 -0.00107086\n",
      "  0.02115069  0.04200153  0.06209609  0.08187758  0.10160523  0.12137882\n",
      "  0.14117801  0.16090335  0.1804124   0.19954814  0.2181586   0.23610964\n",
      "  0.25329137  0.26962048  0.28503892  0.29951206]\n",
      "21 day output [[0.31302482]]\n",
      "22 day input [ 0.75        0.74090909  0.73636364  0.72727273  0.74090909  0.75\n",
      "  0.74090909  0.75        0.75454545  0.75909091  0.76136364  0.75681818\n",
      "  0.72727273  0.73636364  0.75        0.75454545  0.75        0.75\n",
      "  0.74545455  0.74090909  0.75        0.83181818  0.84090909  0.87727273\n",
      "  0.81818182  0.86363636  0.87272727  0.87727273  0.88181818  0.87727273\n",
      "  0.88636364  0.89545455  0.91818182  0.88636364  0.89090909  0.89545455\n",
      "  0.90909091  0.89545455  0.90454545  0.90909091  0.92272727  0.92272727\n",
      "  0.92272727  0.93181818  0.92727273  0.90909091  0.92272727  0.93181818\n",
      "  0.92727273  0.92272727  0.91818182  0.93181818  0.95454545  1.\n",
      "  0.97727273  0.95454545  0.85        0.54545455  0.52272727  0.54545455\n",
      "  0.51363636  0.5         0.48636364  0.27272727  0.16363636  0.09090909\n",
      "  0.18181818  0.11363636  0.11818182  0.05909091  0.05909091  0.05681818\n",
      "  0.06363636  0.05909091  0.04545455  0.04545455  0.04090909  0.05\n",
      " -0.11330727 -0.0819793  -0.05230899 -0.02536377 -0.00107086  0.02115069\n",
      "  0.04200153  0.06209609  0.08187758  0.10160523  0.12137882  0.14117801\n",
      "  0.16090335  0.1804124   0.19954814  0.2181586   0.23610964  0.25329137\n",
      "  0.26962048  0.28503892  0.29951206  0.31302482]\n",
      "22 day output [[0.32557815]]\n",
      "23 day input [ 0.74090909  0.73636364  0.72727273  0.74090909  0.75        0.74090909\n",
      "  0.75        0.75454545  0.75909091  0.76136364  0.75681818  0.72727273\n",
      "  0.73636364  0.75        0.75454545  0.75        0.75        0.74545455\n",
      "  0.74090909  0.75        0.83181818  0.84090909  0.87727273  0.81818182\n",
      "  0.86363636  0.87272727  0.87727273  0.88181818  0.87727273  0.88636364\n",
      "  0.89545455  0.91818182  0.88636364  0.89090909  0.89545455  0.90909091\n",
      "  0.89545455  0.90454545  0.90909091  0.92272727  0.92272727  0.92272727\n",
      "  0.93181818  0.92727273  0.90909091  0.92272727  0.93181818  0.92727273\n",
      "  0.92272727  0.91818182  0.93181818  0.95454545  1.          0.97727273\n",
      "  0.95454545  0.85        0.54545455  0.52272727  0.54545455  0.51363636\n",
      "  0.5         0.48636364  0.27272727  0.16363636  0.09090909  0.18181818\n",
      "  0.11363636  0.11818182  0.05909091  0.05909091  0.05681818  0.06363636\n",
      "  0.05909091  0.04545455  0.04545455  0.04090909  0.05       -0.11330727\n",
      " -0.0819793  -0.05230899 -0.02536377 -0.00107086  0.02115069  0.04200153\n",
      "  0.06209609  0.08187758  0.10160523  0.12137882  0.14117801  0.16090335\n",
      "  0.1804124   0.19954814  0.2181586   0.23610964  0.25329137  0.26962048\n",
      "  0.28503892  0.29951206  0.31302482  0.32557815]\n",
      "23 day output [[0.33718577]]\n",
      "24 day input [ 0.73636364  0.72727273  0.74090909  0.75        0.74090909  0.75\n",
      "  0.75454545  0.75909091  0.76136364  0.75681818  0.72727273  0.73636364\n",
      "  0.75        0.75454545  0.75        0.75        0.74545455  0.74090909\n",
      "  0.75        0.83181818  0.84090909  0.87727273  0.81818182  0.86363636\n",
      "  0.87272727  0.87727273  0.88181818  0.87727273  0.88636364  0.89545455\n",
      "  0.91818182  0.88636364  0.89090909  0.89545455  0.90909091  0.89545455\n",
      "  0.90454545  0.90909091  0.92272727  0.92272727  0.92272727  0.93181818\n",
      "  0.92727273  0.90909091  0.92272727  0.93181818  0.92727273  0.92272727\n",
      "  0.91818182  0.93181818  0.95454545  1.          0.97727273  0.95454545\n",
      "  0.85        0.54545455  0.52272727  0.54545455  0.51363636  0.5\n",
      "  0.48636364  0.27272727  0.16363636  0.09090909  0.18181818  0.11363636\n",
      "  0.11818182  0.05909091  0.05909091  0.05681818  0.06363636  0.05909091\n",
      "  0.04545455  0.04545455  0.04090909  0.05       -0.11330727 -0.0819793\n",
      " -0.05230899 -0.02536377 -0.00107086  0.02115069  0.04200153  0.06209609\n",
      "  0.08187758  0.10160523  0.12137882  0.14117801  0.16090335  0.1804124\n",
      "  0.19954814  0.2181586   0.23610964  0.25329137  0.26962048  0.28503892\n",
      "  0.29951206  0.31302482  0.32557815  0.33718577]\n",
      "24 day output [[0.3478709]]\n",
      "25 day input [ 0.72727273  0.74090909  0.75        0.74090909  0.75        0.75454545\n",
      "  0.75909091  0.76136364  0.75681818  0.72727273  0.73636364  0.75\n",
      "  0.75454545  0.75        0.75        0.74545455  0.74090909  0.75\n",
      "  0.83181818  0.84090909  0.87727273  0.81818182  0.86363636  0.87272727\n",
      "  0.87727273  0.88181818  0.87727273  0.88636364  0.89545455  0.91818182\n",
      "  0.88636364  0.89090909  0.89545455  0.90909091  0.89545455  0.90454545\n",
      "  0.90909091  0.92272727  0.92272727  0.92272727  0.93181818  0.92727273\n",
      "  0.90909091  0.92272727  0.93181818  0.92727273  0.92272727  0.91818182\n",
      "  0.93181818  0.95454545  1.          0.97727273  0.95454545  0.85\n",
      "  0.54545455  0.52272727  0.54545455  0.51363636  0.5         0.48636364\n",
      "  0.27272727  0.16363636  0.09090909  0.18181818  0.11363636  0.11818182\n",
      "  0.05909091  0.05909091  0.05681818  0.06363636  0.05909091  0.04545455\n",
      "  0.04545455  0.04090909  0.05       -0.11330727 -0.0819793  -0.05230899\n",
      " -0.02536377 -0.00107086  0.02115069  0.04200153  0.06209609  0.08187758\n",
      "  0.10160523  0.12137882  0.14117801  0.16090335  0.1804124   0.19954814\n",
      "  0.2181586   0.23610964  0.25329137  0.26962048  0.28503892  0.29951206\n",
      "  0.31302482  0.32557815  0.33718577  0.34787089]\n",
      "25 day output [[0.3576639]]\n",
      "26 day input [ 0.74090909  0.75        0.74090909  0.75        0.75454545  0.75909091\n",
      "  0.76136364  0.75681818  0.72727273  0.73636364  0.75        0.75454545\n",
      "  0.75        0.75        0.74545455  0.74090909  0.75        0.83181818\n",
      "  0.84090909  0.87727273  0.81818182  0.86363636  0.87272727  0.87727273\n",
      "  0.88181818  0.87727273  0.88636364  0.89545455  0.91818182  0.88636364\n",
      "  0.89090909  0.89545455  0.90909091  0.89545455  0.90454545  0.90909091\n",
      "  0.92272727  0.92272727  0.92272727  0.93181818  0.92727273  0.90909091\n",
      "  0.92272727  0.93181818  0.92727273  0.92272727  0.91818182  0.93181818\n",
      "  0.95454545  1.          0.97727273  0.95454545  0.85        0.54545455\n",
      "  0.52272727  0.54545455  0.51363636  0.5         0.48636364  0.27272727\n",
      "  0.16363636  0.09090909  0.18181818  0.11363636  0.11818182  0.05909091\n",
      "  0.05909091  0.05681818  0.06363636  0.05909091  0.04545455  0.04545455\n",
      "  0.04090909  0.05       -0.11330727 -0.0819793  -0.05230899 -0.02536377\n",
      " -0.00107086  0.02115069  0.04200153  0.06209609  0.08187758  0.10160523\n",
      "  0.12137882  0.14117801  0.16090335  0.1804124   0.19954814  0.2181586\n",
      "  0.23610964  0.25329137  0.26962048  0.28503892  0.29951206  0.31302482\n",
      "  0.32557815  0.33718577  0.34787089  0.3576639 ]\n",
      "26 day output [[0.3666006]]\n",
      "27 day input [ 0.75        0.74090909  0.75        0.75454545  0.75909091  0.76136364\n",
      "  0.75681818  0.72727273  0.73636364  0.75        0.75454545  0.75\n",
      "  0.75        0.74545455  0.74090909  0.75        0.83181818  0.84090909\n",
      "  0.87727273  0.81818182  0.86363636  0.87272727  0.87727273  0.88181818\n",
      "  0.87727273  0.88636364  0.89545455  0.91818182  0.88636364  0.89090909\n",
      "  0.89545455  0.90909091  0.89545455  0.90454545  0.90909091  0.92272727\n",
      "  0.92272727  0.92272727  0.93181818  0.92727273  0.90909091  0.92272727\n",
      "  0.93181818  0.92727273  0.92272727  0.91818182  0.93181818  0.95454545\n",
      "  1.          0.97727273  0.95454545  0.85        0.54545455  0.52272727\n",
      "  0.54545455  0.51363636  0.5         0.48636364  0.27272727  0.16363636\n",
      "  0.09090909  0.18181818  0.11363636  0.11818182  0.05909091  0.05909091\n",
      "  0.05681818  0.06363636  0.05909091  0.04545455  0.04545455  0.04090909\n",
      "  0.05       -0.11330727 -0.0819793  -0.05230899 -0.02536377 -0.00107086\n",
      "  0.02115069  0.04200153  0.06209609  0.08187758  0.10160523  0.12137882\n",
      "  0.14117801  0.16090335  0.1804124   0.19954814  0.2181586   0.23610964\n",
      "  0.25329137  0.26962048  0.28503892  0.29951206  0.31302482  0.32557815\n",
      "  0.33718577  0.34787089  0.3576639   0.3666006 ]\n",
      "27 day output [[0.37472013]]\n",
      "28 day input [ 0.74090909  0.75        0.75454545  0.75909091  0.76136364  0.75681818\n",
      "  0.72727273  0.73636364  0.75        0.75454545  0.75        0.75\n",
      "  0.74545455  0.74090909  0.75        0.83181818  0.84090909  0.87727273\n",
      "  0.81818182  0.86363636  0.87272727  0.87727273  0.88181818  0.87727273\n",
      "  0.88636364  0.89545455  0.91818182  0.88636364  0.89090909  0.89545455\n",
      "  0.90909091  0.89545455  0.90454545  0.90909091  0.92272727  0.92272727\n",
      "  0.92272727  0.93181818  0.92727273  0.90909091  0.92272727  0.93181818\n",
      "  0.92727273  0.92272727  0.91818182  0.93181818  0.95454545  1.\n",
      "  0.97727273  0.95454545  0.85        0.54545455  0.52272727  0.54545455\n",
      "  0.51363636  0.5         0.48636364  0.27272727  0.16363636  0.09090909\n",
      "  0.18181818  0.11363636  0.11818182  0.05909091  0.05909091  0.05681818\n",
      "  0.06363636  0.05909091  0.04545455  0.04545455  0.04090909  0.05\n",
      " -0.11330727 -0.0819793  -0.05230899 -0.02536377 -0.00107086  0.02115069\n",
      "  0.04200153  0.06209609  0.08187758  0.10160523  0.12137882  0.14117801\n",
      "  0.16090335  0.1804124   0.19954814  0.2181586   0.23610964  0.25329137\n",
      "  0.26962048  0.28503892  0.29951206  0.31302482  0.32557815  0.33718577\n",
      "  0.34787089  0.3576639   0.3666006   0.37472013]\n",
      "28 day output [[0.38206375]]\n",
      "29 day input [ 0.75        0.75454545  0.75909091  0.76136364  0.75681818  0.72727273\n",
      "  0.73636364  0.75        0.75454545  0.75        0.75        0.74545455\n",
      "  0.74090909  0.75        0.83181818  0.84090909  0.87727273  0.81818182\n",
      "  0.86363636  0.87272727  0.87727273  0.88181818  0.87727273  0.88636364\n",
      "  0.89545455  0.91818182  0.88636364  0.89090909  0.89545455  0.90909091\n",
      "  0.89545455  0.90454545  0.90909091  0.92272727  0.92272727  0.92272727\n",
      "  0.93181818  0.92727273  0.90909091  0.92272727  0.93181818  0.92727273\n",
      "  0.92272727  0.91818182  0.93181818  0.95454545  1.          0.97727273\n",
      "  0.95454545  0.85        0.54545455  0.52272727  0.54545455  0.51363636\n",
      "  0.5         0.48636364  0.27272727  0.16363636  0.09090909  0.18181818\n",
      "  0.11363636  0.11818182  0.05909091  0.05909091  0.05681818  0.06363636\n",
      "  0.05909091  0.04545455  0.04545455  0.04090909  0.05       -0.11330727\n",
      " -0.0819793  -0.05230899 -0.02536377 -0.00107086  0.02115069  0.04200153\n",
      "  0.06209609  0.08187758  0.10160523  0.12137882  0.14117801  0.16090335\n",
      "  0.1804124   0.19954814  0.2181586   0.23610964  0.25329137  0.26962048\n",
      "  0.28503892  0.29951206  0.31302482  0.32557815  0.33718577  0.34787089\n",
      "  0.3576639   0.3666006   0.37472013  0.38206375]\n",
      "29 day output [[0.38867462]]\n",
      "[[-0.11330726742744446], [-0.08197929710149765], [-0.05230898782610893], [-0.025363773107528687], [-0.0010708551853895187], [0.02115069329738617], [0.04200153425335884], [0.06209608539938927], [0.08187758177518845], [0.10160522907972336], [0.1213788166642189], [0.14117801189422607], [0.16090334951877594], [0.1804123967885971], [0.19954814016819], [0.21815860271453857], [0.2361096441745758], [0.25329136848449707], [0.26962047815322876], [0.28503891825675964], [0.2995120584964752], [0.3130248188972473], [0.32557815313339233], [0.3371857702732086], [0.3478708863258362], [0.3576638996601105], [0.3666006028652191], [0.37472012639045715], [0.38206374645233154], [0.38867461681365967]]\n"
     ]
    }
   ],
   "source": [
    "# demonstrate prediction for next 30 days\n",
    "from numpy import array\n",
    "\n",
    "lst_output=[]\n",
    "n_steps=100\n",
    "i=0\n",
    "while(i<30):\n",
    "    \n",
    "    if(len(temp_input)>100):\n",
    "        #print(temp_input)\n",
    "        x_input=np.array(temp_input[1:])\n",
    "        print(\"{} day input {}\".format(i,x_input))\n",
    "        x_input=x_input.reshape(1,-1)\n",
    "        x_input = x_input.reshape((1, n_steps, 1))\n",
    "        #print(x_input)\n",
    "        yhat = model.predict(x_input, verbose=0)\n",
    "        print(\"{} day output {}\".format(i,yhat))\n",
    "        temp_input.extend(yhat[0].tolist())\n",
    "        temp_input=temp_input[1:]\n",
    "        #print(temp_input)\n",
    "        lst_output.extend(yhat.tolist())\n",
    "        i=i+1\n",
    "    else:\n",
    "        x_input = x_input.reshape((1, n_steps,1))\n",
    "        yhat = model.predict(x_input, verbose=0)\n",
    "        print(yhat[0])\n",
    "        temp_input.extend(yhat[0].tolist())\n",
    "        print(len(temp_input))\n",
    "        lst_output.extend(yhat.tolist())\n",
    "        i=i+1\n",
    "    \n",
    "\n",
    "print(lst_output)"
   ]
  },
  {
   "cell_type": "code",
   "execution_count": 398,
   "id": "59428726",
   "metadata": {},
   "outputs": [],
   "source": [
    "day_new=np.arange(1,101)\n",
    "day_pred=np.arange(101,131)"
   ]
  },
  {
   "cell_type": "code",
   "execution_count": 399,
   "id": "e802d46c",
   "metadata": {},
   "outputs": [],
   "source": [
    "import matplotlib.pyplot as plt"
   ]
  },
  {
   "cell_type": "code",
   "execution_count": 400,
   "id": "10247de4",
   "metadata": {},
   "outputs": [
    {
     "data": {
      "text/plain": [
       "285"
      ]
     },
     "execution_count": 400,
     "metadata": {},
     "output_type": "execute_result"
    }
   ],
   "source": [
    "len(df1)"
   ]
  },
  {
   "cell_type": "code",
   "execution_count": 406,
   "id": "b098bf32",
   "metadata": {},
   "outputs": [
    {
     "data": {
      "text/plain": [
       "[<matplotlib.lines.Line2D at 0x22b5be58730>]"
      ]
     },
     "execution_count": 406,
     "metadata": {},
     "output_type": "execute_result"
    },
    {
     "data": {
      "image/png": "[encoded data removed]",
      "text/plain": [
       "<Figure size 600x400 with 1 Axes>"
      ]
     },
     "metadata": {},
     "output_type": "display_data"
    }
   ],
   "source": [
    "\n",
    "plt.plot(day_new,scaler.inverse_transform(df1[185:]))\n",
    "plt.plot(day_pred,scaler.inverse_transform(lst_output))"
   ]
  },
  {
   "cell_type": "code",
   "execution_count": 407,
   "id": "c9d7f111",
   "metadata": {},
   "outputs": [
    {
     "data": {
      "text/plain": [
       "[<matplotlib.lines.Line2D at 0x22b5be95a60>]"
      ]
     },
     "execution_count": 407,
     "metadata": {},
     "output_type": "execute_result"
    },
    {
     "data": {
      "image/png": "[encoded data removed]",
      "text/plain": [
       "<Figure size 600x400 with 1 Axes>"
      ]
     },
     "metadata": {},
     "output_type": "display_data"
    }
   ],
   "source": [
    "df3=df1.tolist()\n",
    "df3.extend(lst_output)\n",
    "plt.plot(df3[200:])"
   ]
  },
  {
   "cell_type": "code",
   "execution_count": 408,
   "id": "ac93cfc3",
   "metadata": {},
   "outputs": [],
   "source": [
    "df3=scaler.inverse_transform(df3).tolist()"
   ]
  },
  {
   "cell_type": "code",
   "execution_count": 409,
   "id": "4a36b91f",
   "metadata": {},
   "outputs": [
    {
     "data": {
      "text/plain": [
       "[<matplotlib.lines.Line2D at 0x22b5c05b7c0>]"
      ]
     },
     "execution_count": 409,
     "metadata": {},
     "output_type": "execute_result"
    },
    {
     "data": {
      "image/png": "[encoded data removed]",
      "text/plain": [
       "<Figure size 600x400 with 1 Axes>"
      ]
     },
     "metadata": {},
     "output_type": "display_data"
    }
   ],
   "source": [
    "plt.plot(df3)"
   ]
  },
  {
   "cell_type": "code",
   "execution_count": null,
   "id": "04b36a47",
   "metadata": {},
   "outputs": [],
   "source": []
  },
  {
   "cell_type": "code",
   "execution_count": null,
   "id": "9ba5d99d",
   "metadata": {},
   "outputs": [],
   "source": []
  }
 ],
 "metadata": {
  "kernelspec": {
   "display_name": "Python 3",
   "language": "python",
   "name": "python3"
  },
  "language_info": {
   "codemirror_mode": {
    "name": "ipython",
    "version": 3
   },
   "file_extension": ".py",
   "mimetype": "text/x-python",
   "name": "python",
   "nbconvert_exporter": "python",
   "pygments_lexer": "ipython3",
   "version": "3.8.3"
  }
 },
 "nbformat": 4,
 "nbformat_minor": 5
}
